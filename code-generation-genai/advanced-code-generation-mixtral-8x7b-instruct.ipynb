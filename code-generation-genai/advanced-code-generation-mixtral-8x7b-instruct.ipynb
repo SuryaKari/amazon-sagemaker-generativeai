{
 "cells": [
  {
   "cell_type": "markdown",
   "id": "22415c5b",
   "metadata": {},
   "source": [
    "# Advanced Code Generation with Mixtral 8x7B\n"
   ]
  },
  {
   "cell_type": "markdown",
   "id": "9f78641c",
   "metadata": {},
   "source": [
    "## Setup\n",
    "***"
   ]
  },
  {
   "cell_type": "code",
   "execution_count": 2,
   "id": "24393ab8",
   "metadata": {
    "jumpStartAlterations": [
     "modelIdOnly"
    ],
    "tags": []
   },
   "outputs": [],
   "source": [
    "model_id = \"huggingface-llm-mixtral-8x7b-instruct\""
   ]
  },
  {
   "cell_type": "code",
   "execution_count": 3,
   "id": "85a2a8e5-789f-4041-9927-221257126653",
   "metadata": {
    "tags": []
   },
   "outputs": [
    {
     "name": "stdout",
     "output_type": "stream",
     "text": [
      "sagemaker.config INFO - Not applying SDK defaults from location: /etc/xdg/sagemaker/config.yaml\n",
      "sagemaker.config INFO - Not applying SDK defaults from location: /root/.config/sagemaker/config.yaml\n"
     ]
    },
    {
     "name": "stderr",
     "output_type": "stream",
     "text": [
      "Using model 'huggingface-llm-mixtral-8x7b-instruct' with wildcard version identifier '*'. You can pin to version '1.3.1' for more stable results. Note that models may have different input/output signatures after a major version upgrade.\n"
     ]
    },
    {
     "name": "stdout",
     "output_type": "stream",
     "text": [
      "-----------!"
     ]
    }
   ],
   "source": [
    "from sagemaker.jumpstart.model import JumpStartModel\n",
    "\n",
    "model = JumpStartModel(model_id=model_id)\n",
    "predictor = model.deploy()"
   ]
  },
  {
   "cell_type": "markdown",
   "id": "7910793e",
   "metadata": {},
   "source": [
    "### Supported parameters\n",
    "\n",
    "***\n",
    "This model supports many parameters while performing inference. They include:\n",
    "\n",
    "* **max_length:** Model generates text until the output length (which includes the input context length) reaches `max_length`. If specified, it must be a positive integer.\n",
    "* **max_new_tokens:** Model generates text until the output length (excluding the input context length) reaches `max_new_tokens`. If specified, it must be a positive integer.\n",
    "* **num_beams:** Number of beams used in the greedy search. If specified, it must be integer greater than or equal to `num_return_sequences`.\n",
    "* **no_repeat_ngram_size:** Model ensures that a sequence of words of `no_repeat_ngram_size` is not repeated in the output sequence. If specified, it must be a positive integer greater than 1.\n",
    "* **temperature:** Controls the randomness in the output. Higher temperature results in output sequence with low-probability words and lower temperature results in output sequence with high-probability words. If `temperature` -> 0, it results in greedy decoding. If specified, it must be a positive float.\n",
    "* **early_stopping:** If True, text generation is finished when all beam hypotheses reach the end of sentence token. If specified, it must be boolean.\n",
    "* **do_sample:** If True, sample the next word as per the likelihood. If specified, it must be boolean.\n",
    "* **top_k:** In each step of text generation, sample from only the `top_k` most likely words. If specified, it must be a positive integer.\n",
    "* **top_p:** In each step of text generation, sample from the smallest possible set of words with cumulative probability `top_p`. If specified, it must be a float between 0 and 1.\n",
    "* **return_full_text:** If True, input text will be part of the output generated text. If specified, it must be boolean. The default value for it is False.\n",
    "* **stop**: If specified, it must a list of strings. Text generation stops if any one of the specified strings is generated.\n",
    "\n",
    "We may specify any subset of the parameters mentioned above while invoking an endpoint. Next, we show an example of how to invoke endpoint with these arguments\n",
    "***"
   ]
  },
  {
   "cell_type": "markdown",
   "id": "306389a4",
   "metadata": {},
   "source": [
    "## Instruction prompts\n",
    "***\n",
    "The examples in this notebook demonstrate queries to the Mixtral 8x7B Instruct model. This involves special token formatting within the prompt input.\n",
    "***"
   ]
  },
  {
   "cell_type": "code",
   "execution_count": 4,
   "id": "c2c6a501",
   "metadata": {
    "tags": []
   },
   "outputs": [],
   "source": [
    "from typing import Dict, List\n",
    "\n",
    "\n",
    "def format_instructions(instructions: List[Dict[str, str]]) -> List[str]:\n",
    "    \"\"\"Format instructions where conversation roles must alternate user/assistant/user/assistant/...\"\"\"\n",
    "    prompt: List[str] = []\n",
    "    for user, answer in zip(instructions[::2], instructions[1::2]):\n",
    "        prompt.extend([\"<s>\", \"[INST] \", (user[\"content\"]).strip(), \" [/INST] \", (answer[\"content\"]).strip(), \"</s>\"])\n",
    "    prompt.extend([\"<s>\", \"[INST] \", (instructions[-1][\"content\"]).strip(), \" [/INST] \"])\n",
    "    return \"\".join(prompt)\n",
    "\n",
    "\n",
    "def print_prompt_and_response(prompt: str, response: str) -> None:\n",
    "    bold, unbold = '\\033[1m', '\\033[0m'\n",
    "    print(f\"{bold}> Input{unbold}\\n{prompt}\\n\\n{bold}> Output{unbold}\\n{response[0]['generated_text']}\\n\")"
   ]
  },
  {
   "cell_type": "markdown",
   "id": "6418c08f-b4b2-4cbf-82b8-c54aa8cef998",
   "metadata": {
    "tags": []
   },
   "source": [
    "### Generating a Hyperparameter Tuning Script for SageMaker"
   ]
  },
  {
   "cell_type": "code",
   "execution_count": 15,
   "id": "0c5bb191-a7ce-49da-89fe-5844b80ba854",
   "metadata": {
    "tags": []
   },
   "outputs": [
    {
     "name": "stdout",
     "output_type": "stream",
     "text": [
      "\u001b[1m> Input\u001b[0m\n",
      "<s>[INST] <<SYS>>You are an AI assistant specializing in generating Python code for hyperparameter tuning of machine learning models on Amazon SageMaker. Your code should be efficient, well-documented, and include examples of usage.<</SYS>>\n",
      "Generate a Python script that performs hyperparameter tuning of an XGBoost model for regression on the Boston Housing dataset. The script should use Amazon SageMaker's XGBoost estimator and be ready for deployment on SageMaker. \n",
      "It should optimize for validation:accuracy, and optimize the hyperparameters alpha and eta. [/INST] \n",
      "\n",
      "\u001b[1m> Output\u001b[0m\n",
      "```python\n",
      "import boto3\n",
      "import sagemaker\n",
      "from sagemaker.xgboost import XGBoost\n",
      "from sagemaker.tuner import IntegerParameter, ContinuousParameter, HyperparameterTuner\n",
      "\n",
      "# Initialize SageMaker session and boto3 client\n",
      "sagemaker_session = sagemaker.Session()\n",
      "boto3_client = boto3.client('sagemaker')\n",
      "\n",
      "# Specify the hyperparameter ranges for tuning\n",
      "hyperparameter_ranges = {\n",
      "    'alpha': ContinuousParameter(0.1, 1.0),\n",
      "    'eta': ContinuousParameter(0.01, 0.3)\n",
      "}\n",
      "\n",
      "# Define the objective metric for hyperparameter tuning\n",
      "objective_metric_name = 'validation:accuracy'\n",
      "\n",
      "# Define the hyperparameter tuning job configuration\n",
      "tuner = HyperparameterTuner(\n",
      "    XGBoost(\n",
      "        role=sagemaker_session.get_execution_role(),\n",
      "        train_instance_count=1,\n",
      "        train_instance_type='ml.m5.xlarge',\n",
      "        output_path=f's3://{sagemaker_session.default_bucket()}/xgboost-tuner',\n",
      "        sagemaker_session=sagemaker_session\n",
      "    ),\n",
      "    objective_metric_name,\n",
      "    hyperparameter_ranges,\n",
      "    max_jobs=10,\n",
      "    max_parallel_jobs=3\n",
      ")\n",
      "\n",
      "# Define the input data configuration\n",
      "input_data_config = [\n",
      "    {\n",
      "        'DataSource': {\n",
      "            'S3DataSource': {\n",
      "                'S3DataType': 'S3Prefix',\n",
      "                'S3Uri': 's3://your-boston-housing-data-bucket/boston-housing-data',\n",
      "                'S3DataDistributionType': 'FullyReplicated'\n",
      "            }\n",
      "        },\n",
      "        'TargetAttributeName': 'MEDV',\n",
      "        'AttributeNames': ['CRIM', 'ZN', 'INDUS', 'CHAS', 'NOX', 'RM', 'AGE', 'DIS', 'RAD', 'TAX', 'PTRATIO', 'B', 'LSTAT']\n",
      "    }\n",
      "]\n",
      "\n",
      "# Define the training job configuration\n",
      "tuner.fit({'train': input_data_config}, job_name='xgboost-tuner-boston-housing')\n",
      "\n",
      "# Wait for the hyperparameter tuning job to complete\n",
      "tuner.wait()\n",
      "\n",
      "# Get the best hyperparameters and best objective value\n",
      "best_training_job = tuner.best_training_job()\n",
      "best_hyperparameters = best_training_job.hyperparameters\n",
      "best_objective_value = best_training_job.final_objective_value\n",
      "\n",
      "print(f'Best hyperparameters: {best_hyperparameters}')\n",
      "print(f'Best objective value: {best_objective_value}')\n",
      "```\n",
      "\n",
      "Replace `your-boston-housing-data-bucket` with the name of your S3 bucket containing the Boston Housing dataset.\n",
      "\n",
      "This script performs hyperparameter tuning of an XGBoost model for regression on the Boston Housing dataset using Amazon SageMaker's XGBoost estimator. It optimizes for validation:accuracy and optimizes the hyperparameters alpha and eta. The script is ready for deployment on SageMaker.\n",
      "\n",
      "The script initializes a SageMaker session and boto3 client, specifies the hyperparameter ranges for tuning, defines the objective metric for hyperparameter tuning, and defines the hyperparameter tuning job configuration. It then defines the input data configuration and the training job configuration, and starts the hyperparameter tuning job. Finally, it waits for the job to complete, gets the best hyperparameters and best objective value, and prints them.\n",
      "\n"
     ]
    }
   ],
   "source": [
    "instructions = [\n",
    "    {\n",
    "        \"role\": \"user\",\n",
    "        \"content\": \"\"\"\\\n",
    "<<SYS>>You are an AI assistant specializing in generating Python code for hyperparameter tuning of machine learning models on Amazon SageMaker. Your code should be efficient, well-documented, and include examples of usage.<</SYS>>\n",
    "Generate a Python script that performs hyperparameter tuning of an XGBoost model for regression on the Boston Housing dataset. The script should use Amazon SageMaker's XGBoost estimator and be ready for deployment on SageMaker. \n",
    "It should optimize for validation:accuracy, and optimize the hyperparameters alpha and eta.\"\"\",\n",
    "    }\n",
    "]\n",
    "prompt = format_instructions(instructions)\n",
    "payload = {\n",
    "    \"inputs\": prompt,\n",
    "    \"parameters\": {\"max_new_tokens\": 5000, \"temperature\": 0.2}\n",
    "}\n",
    "response = predictor.predict(payload)\n",
    "print_prompt_and_response(prompt, response)"
   ]
  },
  {
   "cell_type": "markdown",
   "id": "2d336aae-4d2e-4793-b598-bbfbdc43a501",
   "metadata": {
    "tags": []
   },
   "source": [
    "### CDK code for a 3 Tier Application"
   ]
  },
  {
   "cell_type": "code",
   "execution_count": 44,
   "id": "f7f52493-f2a9-4031-bab6-274d536d7024",
   "metadata": {
    "tags": []
   },
   "outputs": [
    {
     "name": "stdout",
     "output_type": "stream",
     "text": [
      "\u001b[1m> Input\u001b[0m\n",
      "<s>[INST] <<SYS>>\n",
      "You are a programmer specialized in AWS, and programming in Python and the AWS Cloud Development Kit. Your code should be efficient, well-documented, and include examples of usage.\n",
      "<</SYS>>\n",
      "Create a CDK script in Python for configuring a three tier web application in AWS. The architecture should consist of these three tiers:\n",
      "\n",
      "1. Presentation tier: Static website content hosted in Amazon S3, distributed by CloudFront. AWS Certificate Manager allows a custom SSL/TLS certificate to be used.\n",
      "\n",
      "2. Logic tier: API Gateway with AWS Lambda. This architecture shows three exposed services (/tickets, /shows, and /info).\n",
      "\n",
      "3. Data tier: Amazon DynamoDB is used for the /tickets and /shows services. Amazon S3 is used to host static content used by the /info service. [/INST] \n",
      "\n",
      "\u001b[1m> Output\u001b[0m\n",
      " Sure, here's an example CDK script in Python that configures a three-tier web application in AWS:\n",
      "```python\n",
      "from aws_cdk import (\n",
      "    aws_certificatemanager as acm,\n",
      "    aws_cloudfront as cloudfront,\n",
      "    aws_cloudfront_origins as origins,\n",
      "    aws_s3 as s3,\n",
      "    aws_apigateway as apigw,\n",
      "    aws_lambda as _lambda,\n",
      "    aws_dynamodb as ddb,\n",
      "    core\n",
      ")\n",
      "\n",
      "class ThreeTierWebAppStack(core.Stack):\n",
      "\n",
      "    def __init__(self, scope: core.Construct, id: str, **kwargs) -> None:\n",
      "        super().__init__(scope, id, **kwargs)\n",
      "\n",
      "        # Create a new Amazon S3 bucket for the presentation tier\n",
      "        self.s3_bucket = s3.Bucket(\n",
      "            self, \"ThreeTierWebAppBucket\",\n",
      "            website_index_document=\"index.html\",\n",
      "            public_read_access=True,\n",
      "            removal_policy=core.RemovalPolicy.DESTROY,\n",
      "        )\n",
      "\n",
      "        # Create a new CloudFront distribution for the presentation tier\n",
      "        self.cloudfront_distribution = cloudfront.Distribution(\n",
      "            self, \"ThreeTierWebAppDistribution\",\n",
      "            default_root_object=\"index.html\",\n",
      "            default_behavior=cloudfront.BehaviorOptions(\n",
      "                origin=origins.S3Origin(self.s3_bucket),\n",
      "                viewer_protocol_policy=cloudfront.ViewerProtocolPolicy.REDIRECT_TO_HTTPS,\n",
      "            ),\n",
      "            certificate=acm.Certificate.from_certificate_arn(\n",
      "                self, \"ThreeTierWebAppCertificate\", certificate_arn=\"arn:aws:acm:region:account-id:certificate/certificate-id\"\n",
      "            ),\n",
      "            domain_names=[\"example.com\"],\n",
      "            price_class=cloudfront.PriceClass.PRICE_CLASS_ALL,\n",
      "        )\n",
      "\n",
      "        # Create a new DynamoDB table for the logic tier\n",
      "        self.tickets_table = ddb.Table(\n",
      "            self, \"ThreeTierWebAppTicketsTable\",\n",
      "            partition_key=ddb.Attribute(name=\"id\", type=ddb.AttributeType.STRING),\n",
      "            billing_mode=ddb.BillingMode.PAY_PER_REQUEST,\n",
      "            removal_policy=core.RemovalPolicy.DESTROY,\n",
      "        )\n",
      "\n",
      "        self.shows_table = ddb.Table(\n",
      "            self, \"ThreeTierWebAppShowsTable\",\n",
      "            partition_key=ddb.Attribute(name=\"id\", type=ddb.AttributeType.STRING),\n",
      "            billing_mode=ddb.BillingMode.PAY_PER_REQUEST,\n",
      "            removal_policy=core.RemovalPolicy.DESTROY,\n",
      "        )\n",
      "\n",
      "        # Create a new Lambda function for the logic tier\n",
      "        self.lambda_function = _lambda.Function(\n",
      "            self, \"ThreeTierWebAppLambda\",\n",
      "            runtime=_lambda.Runtime.PYTHON_3_8,\n",
      "            code=_lambda.Code.from_asset(\"lambda\"),\n",
      "            handler=\"index.handler\",\n",
      "            environment={\n",
      "                \"TICKETS_TABLE_NAME\": self.tickets_table.table_name,\n",
      "                \"SHOWS_TABLE_NAME\": self.shows_table.table_name,\n",
      "            },\n",
      "        )\n",
      "\n",
      "        # Create a new API Gateway for the logic tier\n",
      "        self.api = apigw.LambdaRestApi(\n",
      "            self, \"ThreeTierWebAppApi\",\n",
      "            handler=self.lambda_function,\n",
      "            deploy_options={\n",
      "                \"method_settings\": [\n",
      "                    {\n",
      "                        \"method_path\": \"*/*\",\n",
      "                        \"security_policy\": apigw.SecurityPolicy.TLS_1_2,\n",
      "                    },\n",
      "                ],\n",
      "            },\n",
      "        )\n",
      "\n",
      "        # Create the /tickets and /shows services\n",
      "        self.tickets_service = self.api.root.add_resource(\"tickets\")\n",
      "        self.shows_service = self.api.root.add_resource(\"shows\")\n",
      "\n",
      "        # Create the /info service\n",
      "        self.info_service = self.api.root.add_resource(\"info\")\n",
      "        self.info_service.add_method(\n",
      "            \"GET\",\n",
      "            apigw.HttpIntegration(\n",
      "                f\"https://{self.cloudfront_distribution.domain_name}/info.html\",\n",
      "                integration_http_method=\"GET\",\n",
      "            ),\n",
      "        )\n",
      "```\n",
      "In this example, the `ThreeTierWebAppStack` class creates a new Amazon S3 bucket for the presentation tier, a new CloudFront distribution for the presentation tier, a new DynamoDB table for the logic tier, a new Lambda function for the logic tier, and a new API Gateway for the logic tier.\n",
      "\n",
      "The `ThreeTierWebAppStack` class also creates the `/tickets` and `/shows` services in the API Gateway, and the `/info` service that retrieves static content from the Amazon S3 bucket.\n",
      "\n",
      "Note that you will need to replace the `certificate_arn` parameter in the `acm.Certificate.from_certificate_arn()` method with the ARN of your own SSL/TLS certificate.\n",
      "\n",
      "You can deploy this stack using the `cdk deploy` command in the AWS CDK CLI. Once deployed, you can access the web application using the CloudFront distribution URL.\n",
      "\n"
     ]
    }
   ],
   "source": [
    "instructions = [\n",
    "    {\n",
    "        \"role\": \"user\",\n",
    "        \"content\": \"\"\"\\\n",
    "<<SYS>>\n",
    "You are a programmer specialized in AWS, and programming in Python and the AWS Cloud Development Kit. Your code should be efficient, well-documented, and include examples of usage.\n",
    "<</SYS>>\n",
    "Create a CDK script in Python for configuring a three tier web application in AWS. The architecture should consist of these three tiers:\n",
    "\n",
    "1. Presentation tier: Static website content hosted in Amazon S3, distributed by CloudFront. AWS Certificate Manager allows a custom SSL/TLS certificate to be used.\n",
    "\n",
    "2. Logic tier: API Gateway with AWS Lambda. This architecture shows three exposed services (/tickets, /shows, and /info).\n",
    "\n",
    "3. Data tier: Amazon DynamoDB is used for the /tickets and /shows services. Amazon S3 is used to host static content used by the /info service.\"\"\",\n",
    "    }\n",
    "]\n",
    "prompt = format_instructions(instructions)\n",
    "payload = {\n",
    "    \"inputs\": prompt,\n",
    "    \"parameters\": {\"max_new_tokens\": 5000, \"do_sample\": True, \"temperature\": 0.2}\n",
    "}\n",
    "response = predictor.predict(payload)\n",
    "print_prompt_and_response(prompt, response)"
   ]
  },
  {
   "cell_type": "markdown",
   "id": "4abacf8a-37b8-400d-960b-11118b3ebba2",
   "metadata": {
    "tags": []
   },
   "source": [
    "### Code Transformation - Java to Python"
   ]
  },
  {
   "cell_type": "code",
   "execution_count": 43,
   "id": "a01f8408-dbdb-45ac-bebd-320c4c5135ac",
   "metadata": {
    "tags": []
   },
   "outputs": [
    {
     "name": "stdout",
     "output_type": "stream",
     "text": [
      "\u001b[1m> Input\u001b[0m\n",
      "<s>[INST] <<SYS>>\n",
      "You are a programmer specialized in Java and Python languages. Your code should be efficient, well-documented, and include examples of usage.\n",
      "<</SYS>>\n",
      "Convert the following Java code to its equivalent in Python:\n",
      "\n",
      "<java>\n",
      "import java.util.ArrayList;\n",
      "\n",
      "public class Main { \n",
      "  public static void main(String[] args) { \n",
      "    ArrayList<String> cars = new ArrayList<String>();\n",
      "    cars.add(\"Volvo\");\n",
      "    cars.add(\"BMW\");\n",
      "    cars.add(\"Ford\");\n",
      "    cars.add(\"Mazda\");\n",
      "    for (int i = 0; i < cars.size(); i++) {\n",
      "      System.out.println(cars.get(i));\n",
      "    }\n",
      "  } \n",
      "}\n",
      "</java> [/INST] \n",
      "\n",
      "\u001b[1m> Output\u001b[0m\n",
      "<python>\n",
      "# Import the equivalent module in Python for ArrayList, which is list\n",
      "cars = []  # Creating an empty list\n",
      "\n",
      "# Adding elements to the list\n",
      "cars.append(\"Volvo\")\n",
      "cars.append(\"BMW\")\n",
      "cars.append(\"Ford\")\n",
      "cars.append(\"Mazda\")\n",
      "\n",
      "# Using a for-each loop to iterate over the list and print each element\n",
      "for car in cars:\n",
      "    print(car)\n",
      "</python>\n",
      "\n",
      "Or, you can use list comprehension to make it more concise:\n",
      "\n",
      "<python>\n",
      "# Creating and initializing the list in one line\n",
      "cars = [\"Volvo\", \"BMW\", \"Ford\", \"Mazda\"]\n",
      "\n",
      "# Printing each element in the list\n",
      "[print(car) for car in cars]\n",
      "</python>\n",
      "\n",
      "Both of these Python codes achieve the same functionality as the given Java code. The first one is more similar to the Java code in terms of structure and syntax, while the second one demonstrates a more Pythonic way of doing it.\n",
      "\n"
     ]
    }
   ],
   "source": [
    "instructions = [\n",
    "    {\n",
    "        \"role\": \"user\",\n",
    "        \"content\": \"\"\"\\\n",
    "<<SYS>>\n",
    "You are a programmer specialized in Java and Python languages. Your code should be efficient, well-documented, and include examples of usage.\n",
    "<</SYS>>\n",
    "Convert the following Java code to its equivalent in Python:\n",
    "\n",
    "<java>\n",
    "import java.util.ArrayList;\n",
    "\n",
    "public class Main { \n",
    "  public static void main(String[] args) { \n",
    "    ArrayList<String> cars = new ArrayList<String>();\n",
    "    cars.add(\"Volvo\");\n",
    "    cars.add(\"BMW\");\n",
    "    cars.add(\"Ford\");\n",
    "    cars.add(\"Mazda\");\n",
    "    for (int i = 0; i < cars.size(); i++) {\n",
    "      System.out.println(cars.get(i));\n",
    "    }\n",
    "  } \n",
    "}\n",
    "</java>\"\"\",\n",
    "    }\n",
    "]\n",
    "prompt = format_instructions(instructions)\n",
    "payload = {\n",
    "    \"inputs\": prompt,\n",
    "    \"parameters\": {\"max_new_tokens\": 5000, \"temperature\": 0.2}\n",
    "}\n",
    "response = predictor.predict(payload)\n",
    "print_prompt_and_response(prompt, response)"
   ]
  },
  {
   "cell_type": "markdown",
   "id": "7bc812c1",
   "metadata": {},
   "source": [
    "## Clean up the endpoint"
   ]
  },
  {
   "cell_type": "code",
   "execution_count": null,
   "id": "1df9f61d",
   "metadata": {},
   "outputs": [],
   "source": [
    "predictor.delete_model()\n",
    "predictor.delete_endpoint()"
   ]
  }
 ],
 "metadata": {
  "availableInstances": [
   {
    "_defaultOrder": 0,
    "_isFastLaunch": true,
    "category": "General purpose",
    "gpuNum": 0,
    "hideHardwareSpecs": false,
    "memoryGiB": 4,
    "name": "ml.t3.medium",
    "vcpuNum": 2
   },
   {
    "_defaultOrder": 1,
    "_isFastLaunch": false,
    "category": "General purpose",
    "gpuNum": 0,
    "hideHardwareSpecs": false,
    "memoryGiB": 8,
    "name": "ml.t3.large",
    "vcpuNum": 2
   },
   {
    "_defaultOrder": 2,
    "_isFastLaunch": false,
    "category": "General purpose",
    "gpuNum": 0,
    "hideHardwareSpecs": false,
    "memoryGiB": 16,
    "name": "ml.t3.xlarge",
    "vcpuNum": 4
   },
   {
    "_defaultOrder": 3,
    "_isFastLaunch": false,
    "category": "General purpose",
    "gpuNum": 0,
    "hideHardwareSpecs": false,
    "memoryGiB": 32,
    "name": "ml.t3.2xlarge",
    "vcpuNum": 8
   },
   {
    "_defaultOrder": 4,
    "_isFastLaunch": true,
    "category": "General purpose",
    "gpuNum": 0,
    "hideHardwareSpecs": false,
    "memoryGiB": 8,
    "name": "ml.m5.large",
    "vcpuNum": 2
   },
   {
    "_defaultOrder": 5,
    "_isFastLaunch": false,
    "category": "General purpose",
    "gpuNum": 0,
    "hideHardwareSpecs": false,
    "memoryGiB": 16,
    "name": "ml.m5.xlarge",
    "vcpuNum": 4
   },
   {
    "_defaultOrder": 6,
    "_isFastLaunch": false,
    "category": "General purpose",
    "gpuNum": 0,
    "hideHardwareSpecs": false,
    "memoryGiB": 32,
    "name": "ml.m5.2xlarge",
    "vcpuNum": 8
   },
   {
    "_defaultOrder": 7,
    "_isFastLaunch": false,
    "category": "General purpose",
    "gpuNum": 0,
    "hideHardwareSpecs": false,
    "memoryGiB": 64,
    "name": "ml.m5.4xlarge",
    "vcpuNum": 16
   },
   {
    "_defaultOrder": 8,
    "_isFastLaunch": false,
    "category": "General purpose",
    "gpuNum": 0,
    "hideHardwareSpecs": false,
    "memoryGiB": 128,
    "name": "ml.m5.8xlarge",
    "vcpuNum": 32
   },
   {
    "_defaultOrder": 9,
    "_isFastLaunch": false,
    "category": "General purpose",
    "gpuNum": 0,
    "hideHardwareSpecs": false,
    "memoryGiB": 192,
    "name": "ml.m5.12xlarge",
    "vcpuNum": 48
   },
   {
    "_defaultOrder": 10,
    "_isFastLaunch": false,
    "category": "General purpose",
    "gpuNum": 0,
    "hideHardwareSpecs": false,
    "memoryGiB": 256,
    "name": "ml.m5.16xlarge",
    "vcpuNum": 64
   },
   {
    "_defaultOrder": 11,
    "_isFastLaunch": false,
    "category": "General purpose",
    "gpuNum": 0,
    "hideHardwareSpecs": false,
    "memoryGiB": 384,
    "name": "ml.m5.24xlarge",
    "vcpuNum": 96
   },
   {
    "_defaultOrder": 12,
    "_isFastLaunch": false,
    "category": "General purpose",
    "gpuNum": 0,
    "hideHardwareSpecs": false,
    "memoryGiB": 8,
    "name": "ml.m5d.large",
    "vcpuNum": 2
   },
   {
    "_defaultOrder": 13,
    "_isFastLaunch": false,
    "category": "General purpose",
    "gpuNum": 0,
    "hideHardwareSpecs": false,
    "memoryGiB": 16,
    "name": "ml.m5d.xlarge",
    "vcpuNum": 4
   },
   {
    "_defaultOrder": 14,
    "_isFastLaunch": false,
    "category": "General purpose",
    "gpuNum": 0,
    "hideHardwareSpecs": false,
    "memoryGiB": 32,
    "name": "ml.m5d.2xlarge",
    "vcpuNum": 8
   },
   {
    "_defaultOrder": 15,
    "_isFastLaunch": false,
    "category": "General purpose",
    "gpuNum": 0,
    "hideHardwareSpecs": false,
    "memoryGiB": 64,
    "name": "ml.m5d.4xlarge",
    "vcpuNum": 16
   },
   {
    "_defaultOrder": 16,
    "_isFastLaunch": false,
    "category": "General purpose",
    "gpuNum": 0,
    "hideHardwareSpecs": false,
    "memoryGiB": 128,
    "name": "ml.m5d.8xlarge",
    "vcpuNum": 32
   },
   {
    "_defaultOrder": 17,
    "_isFastLaunch": false,
    "category": "General purpose",
    "gpuNum": 0,
    "hideHardwareSpecs": false,
    "memoryGiB": 192,
    "name": "ml.m5d.12xlarge",
    "vcpuNum": 48
   },
   {
    "_defaultOrder": 18,
    "_isFastLaunch": false,
    "category": "General purpose",
    "gpuNum": 0,
    "hideHardwareSpecs": false,
    "memoryGiB": 256,
    "name": "ml.m5d.16xlarge",
    "vcpuNum": 64
   },
   {
    "_defaultOrder": 19,
    "_isFastLaunch": false,
    "category": "General purpose",
    "gpuNum": 0,
    "hideHardwareSpecs": false,
    "memoryGiB": 384,
    "name": "ml.m5d.24xlarge",
    "vcpuNum": 96
   },
   {
    "_defaultOrder": 20,
    "_isFastLaunch": false,
    "category": "General purpose",
    "gpuNum": 0,
    "hideHardwareSpecs": true,
    "memoryGiB": 0,
    "name": "ml.geospatial.interactive",
    "supportedImageNames": [
     "sagemaker-geospatial-v1-0"
    ],
    "vcpuNum": 0
   },
   {
    "_defaultOrder": 21,
    "_isFastLaunch": true,
    "category": "Compute optimized",
    "gpuNum": 0,
    "hideHardwareSpecs": false,
    "memoryGiB": 4,
    "name": "ml.c5.large",
    "vcpuNum": 2
   },
   {
    "_defaultOrder": 22,
    "_isFastLaunch": false,
    "category": "Compute optimized",
    "gpuNum": 0,
    "hideHardwareSpecs": false,
    "memoryGiB": 8,
    "name": "ml.c5.xlarge",
    "vcpuNum": 4
   },
   {
    "_defaultOrder": 23,
    "_isFastLaunch": false,
    "category": "Compute optimized",
    "gpuNum": 0,
    "hideHardwareSpecs": false,
    "memoryGiB": 16,
    "name": "ml.c5.2xlarge",
    "vcpuNum": 8
   },
   {
    "_defaultOrder": 24,
    "_isFastLaunch": false,
    "category": "Compute optimized",
    "gpuNum": 0,
    "hideHardwareSpecs": false,
    "memoryGiB": 32,
    "name": "ml.c5.4xlarge",
    "vcpuNum": 16
   },
   {
    "_defaultOrder": 25,
    "_isFastLaunch": false,
    "category": "Compute optimized",
    "gpuNum": 0,
    "hideHardwareSpecs": false,
    "memoryGiB": 72,
    "name": "ml.c5.9xlarge",
    "vcpuNum": 36
   },
   {
    "_defaultOrder": 26,
    "_isFastLaunch": false,
    "category": "Compute optimized",
    "gpuNum": 0,
    "hideHardwareSpecs": false,
    "memoryGiB": 96,
    "name": "ml.c5.12xlarge",
    "vcpuNum": 48
   },
   {
    "_defaultOrder": 27,
    "_isFastLaunch": false,
    "category": "Compute optimized",
    "gpuNum": 0,
    "hideHardwareSpecs": false,
    "memoryGiB": 144,
    "name": "ml.c5.18xlarge",
    "vcpuNum": 72
   },
   {
    "_defaultOrder": 28,
    "_isFastLaunch": false,
    "category": "Compute optimized",
    "gpuNum": 0,
    "hideHardwareSpecs": false,
    "memoryGiB": 192,
    "name": "ml.c5.24xlarge",
    "vcpuNum": 96
   },
   {
    "_defaultOrder": 29,
    "_isFastLaunch": true,
    "category": "Accelerated computing",
    "gpuNum": 1,
    "hideHardwareSpecs": false,
    "memoryGiB": 16,
    "name": "ml.g4dn.xlarge",
    "vcpuNum": 4
   },
   {
    "_defaultOrder": 30,
    "_isFastLaunch": false,
    "category": "Accelerated computing",
    "gpuNum": 1,
    "hideHardwareSpecs": false,
    "memoryGiB": 32,
    "name": "ml.g4dn.2xlarge",
    "vcpuNum": 8
   },
   {
    "_defaultOrder": 31,
    "_isFastLaunch": false,
    "category": "Accelerated computing",
    "gpuNum": 1,
    "hideHardwareSpecs": false,
    "memoryGiB": 64,
    "name": "ml.g4dn.4xlarge",
    "vcpuNum": 16
   },
   {
    "_defaultOrder": 32,
    "_isFastLaunch": false,
    "category": "Accelerated computing",
    "gpuNum": 1,
    "hideHardwareSpecs": false,
    "memoryGiB": 128,
    "name": "ml.g4dn.8xlarge",
    "vcpuNum": 32
   },
   {
    "_defaultOrder": 33,
    "_isFastLaunch": false,
    "category": "Accelerated computing",
    "gpuNum": 4,
    "hideHardwareSpecs": false,
    "memoryGiB": 192,
    "name": "ml.g4dn.12xlarge",
    "vcpuNum": 48
   },
   {
    "_defaultOrder": 34,
    "_isFastLaunch": false,
    "category": "Accelerated computing",
    "gpuNum": 1,
    "hideHardwareSpecs": false,
    "memoryGiB": 256,
    "name": "ml.g4dn.16xlarge",
    "vcpuNum": 64
   },
   {
    "_defaultOrder": 35,
    "_isFastLaunch": false,
    "category": "Accelerated computing",
    "gpuNum": 1,
    "hideHardwareSpecs": false,
    "memoryGiB": 61,
    "name": "ml.p3.2xlarge",
    "vcpuNum": 8
   },
   {
    "_defaultOrder": 36,
    "_isFastLaunch": false,
    "category": "Accelerated computing",
    "gpuNum": 4,
    "hideHardwareSpecs": false,
    "memoryGiB": 244,
    "name": "ml.p3.8xlarge",
    "vcpuNum": 32
   },
   {
    "_defaultOrder": 37,
    "_isFastLaunch": false,
    "category": "Accelerated computing",
    "gpuNum": 8,
    "hideHardwareSpecs": false,
    "memoryGiB": 488,
    "name": "ml.p3.16xlarge",
    "vcpuNum": 64
   },
   {
    "_defaultOrder": 38,
    "_isFastLaunch": false,
    "category": "Accelerated computing",
    "gpuNum": 8,
    "hideHardwareSpecs": false,
    "memoryGiB": 768,
    "name": "ml.p3dn.24xlarge",
    "vcpuNum": 96
   },
   {
    "_defaultOrder": 39,
    "_isFastLaunch": false,
    "category": "Memory Optimized",
    "gpuNum": 0,
    "hideHardwareSpecs": false,
    "memoryGiB": 16,
    "name": "ml.r5.large",
    "vcpuNum": 2
   },
   {
    "_defaultOrder": 40,
    "_isFastLaunch": false,
    "category": "Memory Optimized",
    "gpuNum": 0,
    "hideHardwareSpecs": false,
    "memoryGiB": 32,
    "name": "ml.r5.xlarge",
    "vcpuNum": 4
   },
   {
    "_defaultOrder": 41,
    "_isFastLaunch": false,
    "category": "Memory Optimized",
    "gpuNum": 0,
    "hideHardwareSpecs": false,
    "memoryGiB": 64,
    "name": "ml.r5.2xlarge",
    "vcpuNum": 8
   },
   {
    "_defaultOrder": 42,
    "_isFastLaunch": false,
    "category": "Memory Optimized",
    "gpuNum": 0,
    "hideHardwareSpecs": false,
    "memoryGiB": 128,
    "name": "ml.r5.4xlarge",
    "vcpuNum": 16
   },
   {
    "_defaultOrder": 43,
    "_isFastLaunch": false,
    "category": "Memory Optimized",
    "gpuNum": 0,
    "hideHardwareSpecs": false,
    "memoryGiB": 256,
    "name": "ml.r5.8xlarge",
    "vcpuNum": 32
   },
   {
    "_defaultOrder": 44,
    "_isFastLaunch": false,
    "category": "Memory Optimized",
    "gpuNum": 0,
    "hideHardwareSpecs": false,
    "memoryGiB": 384,
    "name": "ml.r5.12xlarge",
    "vcpuNum": 48
   },
   {
    "_defaultOrder": 45,
    "_isFastLaunch": false,
    "category": "Memory Optimized",
    "gpuNum": 0,
    "hideHardwareSpecs": false,
    "memoryGiB": 512,
    "name": "ml.r5.16xlarge",
    "vcpuNum": 64
   },
   {
    "_defaultOrder": 46,
    "_isFastLaunch": false,
    "category": "Memory Optimized",
    "gpuNum": 0,
    "hideHardwareSpecs": false,
    "memoryGiB": 768,
    "name": "ml.r5.24xlarge",
    "vcpuNum": 96
   },
   {
    "_defaultOrder": 47,
    "_isFastLaunch": false,
    "category": "Accelerated computing",
    "gpuNum": 1,
    "hideHardwareSpecs": false,
    "memoryGiB": 16,
    "name": "ml.g5.xlarge",
    "vcpuNum": 4
   },
   {
    "_defaultOrder": 48,
    "_isFastLaunch": false,
    "category": "Accelerated computing",
    "gpuNum": 1,
    "hideHardwareSpecs": false,
    "memoryGiB": 32,
    "name": "ml.g5.2xlarge",
    "vcpuNum": 8
   },
   {
    "_defaultOrder": 49,
    "_isFastLaunch": false,
    "category": "Accelerated computing",
    "gpuNum": 1,
    "hideHardwareSpecs": false,
    "memoryGiB": 64,
    "name": "ml.g5.4xlarge",
    "vcpuNum": 16
   },
   {
    "_defaultOrder": 50,
    "_isFastLaunch": false,
    "category": "Accelerated computing",
    "gpuNum": 1,
    "hideHardwareSpecs": false,
    "memoryGiB": 128,
    "name": "ml.g5.8xlarge",
    "vcpuNum": 32
   },
   {
    "_defaultOrder": 51,
    "_isFastLaunch": false,
    "category": "Accelerated computing",
    "gpuNum": 1,
    "hideHardwareSpecs": false,
    "memoryGiB": 256,
    "name": "ml.g5.16xlarge",
    "vcpuNum": 64
   },
   {
    "_defaultOrder": 52,
    "_isFastLaunch": false,
    "category": "Accelerated computing",
    "gpuNum": 4,
    "hideHardwareSpecs": false,
    "memoryGiB": 192,
    "name": "ml.g5.12xlarge",
    "vcpuNum": 48
   },
   {
    "_defaultOrder": 53,
    "_isFastLaunch": false,
    "category": "Accelerated computing",
    "gpuNum": 4,
    "hideHardwareSpecs": false,
    "memoryGiB": 384,
    "name": "ml.g5.24xlarge",
    "vcpuNum": 96
   },
   {
    "_defaultOrder": 54,
    "_isFastLaunch": false,
    "category": "Accelerated computing",
    "gpuNum": 8,
    "hideHardwareSpecs": false,
    "memoryGiB": 768,
    "name": "ml.g5.48xlarge",
    "vcpuNum": 192
   },
   {
    "_defaultOrder": 55,
    "_isFastLaunch": false,
    "category": "Accelerated computing",
    "gpuNum": 8,
    "hideHardwareSpecs": false,
    "memoryGiB": 1152,
    "name": "ml.p4d.24xlarge",
    "vcpuNum": 96
   },
   {
    "_defaultOrder": 56,
    "_isFastLaunch": false,
    "category": "Accelerated computing",
    "gpuNum": 8,
    "hideHardwareSpecs": false,
    "memoryGiB": 1152,
    "name": "ml.p4de.24xlarge",
    "vcpuNum": 96
   },
   {
    "_defaultOrder": 57,
    "_isFastLaunch": false,
    "category": "Accelerated computing",
    "gpuNum": 0,
    "hideHardwareSpecs": false,
    "memoryGiB": 32,
    "name": "ml.trn1.2xlarge",
    "vcpuNum": 8
   },
   {
    "_defaultOrder": 58,
    "_isFastLaunch": false,
    "category": "Accelerated computing",
    "gpuNum": 0,
    "hideHardwareSpecs": false,
    "memoryGiB": 512,
    "name": "ml.trn1.32xlarge",
    "vcpuNum": 128
   },
   {
    "_defaultOrder": 59,
    "_isFastLaunch": false,
    "category": "Accelerated computing",
    "gpuNum": 0,
    "hideHardwareSpecs": false,
    "memoryGiB": 512,
    "name": "ml.trn1n.32xlarge",
    "vcpuNum": 128
   }
  ],
  "instance_type": "ml.t3.medium",
  "kernelspec": {
   "display_name": "Python 3 (Data Science 2.0)",
   "language": "python",
   "name": "python3__SAGEMAKER_INTERNAL__arn:aws:sagemaker:us-east-1:081325390199:image/sagemaker-data-science-38"
  },
  "language_info": {
   "codemirror_mode": {
    "name": "ipython",
    "version": 3
   },
   "file_extension": ".py",
   "mimetype": "text/x-python",
   "name": "python",
   "nbconvert_exporter": "python",
   "pygments_lexer": "ipython3",
   "version": "3.8.13"
  }
 },
 "nbformat": 4,
 "nbformat_minor": 5
}
