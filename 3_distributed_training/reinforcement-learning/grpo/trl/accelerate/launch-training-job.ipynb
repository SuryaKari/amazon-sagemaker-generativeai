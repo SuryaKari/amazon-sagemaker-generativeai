{
 "cells": [
  {
   "cell_type": "markdown",
   "id": "91a592dd",
   "metadata": {},
   "source": [
    "## Huggingface GRPOTrainer with Accelerate Multi-GPU Training on Amazon SageMaker"
   ]
  },
  {
   "cell_type": "code",
   "execution_count": null,
   "id": "4f446c70",
   "metadata": {},
   "outputs": [],
   "source": [
    "import os\n",
    "from dotenv import load_dotenv\n",
    "import boto3\n",
    "from huggingface_hub import HfFolder\n",
    "from sagemaker.modules import Session\n",
    "from sagemaker.modules.train import ModelTrainer\n",
    "from sagemaker.modules.distributed import Torchrun\n",
    "from sagemaker.modules.train.model_trainer import Mode\n",
    "from sagemaker.modules.configs import (\n",
    "    Compute,\n",
    "    SourceCode,\n",
    "    InputData,\n",
    "    CheckpointConfig,\n",
    ")\n",
    "\n",
    "\n",
    "load_dotenv()  # wandb and/or huggingface token in .env file\n",
    "\n",
    "region = 'eu-central-1'\n",
    "boto_session = boto3.Session(region_name=region)"
   ]
  },
  {
   "cell_type": "code",
   "execution_count": null,
   "id": "d24a8f9b",
   "metadata": {},
   "outputs": [],
   "source": [
    "pytorch_image = f'763104351884.dkr.ecr.{region}.amazonaws.com/pytorch-training:2.6.0-gpu-py312-cu126-ubuntu22.04-sagemaker'\n",
    "# define the script to be run\n",
    "source_code = SourceCode(\n",
    "    source_dir=\"scripts/\",\n",
    "    requirements=\"requirements.txt\",\n",
    "    # entry_script=\"dpo.py\",\n",
    "    command=\"accelerate launch --config_file /opt/ml/input/data/code/default_config.yaml /opt/ml/input/data/code/grpo.py\",\n",
    ")\n",
    "\n",
    "environment = {\n",
    "    'HF_TOKEN': HfFolder.get_token(),\n",
    "    'WANDB_API_KEY': os.environ.get('WANDB_API_KEY'),\n",
    "}\n",
    "\n",
    "compute = Compute(\n",
    "    instance_count=1,\n",
    "    instance_type=\"ml.p4d.24xlarge\",\n",
    "    # volume_size_in_gb=96,\n",
    "    keep_alive_period_in_seconds=3600,\n",
    ")"
   ]
  },
  {
   "cell_type": "code",
   "execution_count": null,
   "id": "cc1beaf6",
   "metadata": {},
   "outputs": [],
   "source": [
    "sess = Session(boto_session=boto_session)\n",
    "bucket = sess.default_bucket()\n",
    "base_job_name = \"grpo-trl\"\n",
    "checkpoint_path = f\"s3://{bucket}/{base_job_name}/checkpoints/\"\n",
    "\n",
    "# define the ModelTrainer\n",
    "model_trainer = ModelTrainer(\n",
    "    sagemaker_session=sess,\n",
    "    training_image=pytorch_image,\n",
    "    source_code=source_code,\n",
    "    base_job_name=base_job_name,\n",
    "    compute=compute,\n",
    "    environment=environment,\n",
    "    checkpoint_config=CheckpointConfig(\n",
    "        s3_uri=checkpoint_path,\n",
    "    ),\n",
    ")"
   ]
  },
  {
   "cell_type": "code",
   "execution_count": null,
   "id": "a7946d99",
   "metadata": {},
   "outputs": [],
   "source": [
    "# start the training job\n",
    "model_trainer.train(wait=False)"
   ]
  },
  {
   "cell_type": "code",
   "execution_count": null,
   "id": "ffb68638",
   "metadata": {},
   "outputs": [],
   "source": [
    "# With command line arguments\n",
    "\n",
    "# source_code = SourceCode(\n",
    "#     source_dir=\"scripts/\",\n",
    "#     requirements=\"requirements.txt\",\n",
    "#     # entry_script=\"grpo_advanced.py\",\n",
    "#     command=\"accelerate launch --config_file /opt/ml/input/data/code/default_config.yaml /opt/ml/input/data/code/grpo_advanced.py \\\n",
    "#             --dataset_name trl-lib/tldr \\\n",
    "#             --model_name_or_path Qwen/Qwen2-0.5B-Instruct \\\n",
    "#             --reward_model_name_or_path Qwen/Qwen2-72B-Instruct-AWQ \\\n",
    "#             --output_dir Qwen2-0.5B-GRPO-ADV \\\n",
    "#             --report_to wandb\",\n",
    "# )"
   ]
  }
 ],
 "metadata": {
  "kernelspec": {
   "display_name": ".venv",
   "language": "python",
   "name": "python3"
  },
  "language_info": {
   "codemirror_mode": {
    "name": "ipython",
    "version": 3
   },
   "file_extension": ".py",
   "mimetype": "text/x-python",
   "name": "python",
   "nbconvert_exporter": "python",
   "pygments_lexer": "ipython3",
   "version": "3.12.9"
  }
 },
 "nbformat": 4,
 "nbformat_minor": 5
}
