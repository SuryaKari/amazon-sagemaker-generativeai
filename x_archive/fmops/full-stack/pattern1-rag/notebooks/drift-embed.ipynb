{
 "cells": [
  {
   "cell_type": "markdown",
   "id": "83564f41-15a5-4bd7-ab92-1c9058574ad7",
   "metadata": {},
   "source": [
    "# Embedding vector drift detection\n",
    "\n",
    "This notebook shows how to perform a simple drift detection on embedding vectors. This will help detect changes in the underlying reference data used in the RAG pattern.\n",
    "\n",
    "## Method\n",
    "\n",
    "Embedding vectors represent an item in n-dimensional space. `n` is often large; Bedrock's Titan embedding model creates vectors of size 4096. We will start by performing dimension reduction using PCA. Then we'll use KMeans to identify a set of cluster centers.\n",
    "\n",
    "We'll calculate the following information to set a baseline:\n",
    "\n",
    "* The number of dimensions found in PCA\n",
    "* The location of each cluster centroid\n",
    "* The proportion of samples in each cluster\n",
    "* The mean and standard deviation of the location of samples compared to their cluster centroid\n",
    "* The mean of the difference of the distance from each sample to its closest and farthest centroids\n",
    "* Inertia (sum of squared distances to cluster centroids)\n",
    "\n",
    "When we want to compare a newer set of embeddings, we'll compute a new baseline. Then we'll compare:\n",
    "\n",
    "* Change in dimensions after PCA\n",
    "* How far the cluster centroids have moved\n",
    "* Change in proportion of samples in each cluster\n",
    "* Change in mean and standard deviation of sample distance\n",
    "* Change in mean of the difference of the distance from each sample to its closest and farthest centroids\n",
    "* Change in inertia"
   ]
  },
  {
   "cell_type": "markdown",
   "id": "a18ca3f3-9586-4979-aee8-044b16cb1462",
   "metadata": {},
   "source": [
    "## Establish first baseline"
   ]
  },
  {
   "cell_type": "code",
   "execution_count": 4,
   "id": "ae784657-6003-4d10-9844-097497ba7a25",
   "metadata": {
    "tags": []
   },
   "outputs": [],
   "source": [
    "import pandas as pd\n",
    "import sklearn as sk\n",
    "import numpy as np"
   ]
  },
  {
   "cell_type": "code",
   "execution_count": 7,
   "id": "95468d23-f238-4d1f-9490-fc7fe18dfa4f",
   "metadata": {
    "tags": []
   },
   "outputs": [],
   "source": [
    "from sklearn.decomposition import PCA\n",
    "\n",
    "rng = np.random.default_rng()\n",
    "embed_dim = 4096\n",
    "num_embeds = 1000\n",
    "\n",
    "X = np.array([rng.standard_normal(embed_dim) for idx in range(num_embeds)])\n"
   ]
  },
  {
   "cell_type": "code",
   "execution_count": 9,
   "id": "3a675fe4-b102-4a1d-9a1f-c7b50709ea1b",
   "metadata": {
    "tags": []
   },
   "outputs": [
    {
     "data": {
      "text/plain": [
       "(1000, 4096)"
      ]
     },
     "execution_count": 9,
     "metadata": {},
     "output_type": "execute_result"
    }
   ],
   "source": [
    "X.shape"
   ]
  },
  {
   "cell_type": "code",
   "execution_count": 11,
   "id": "baa08e98-8a9b-4305-9e08-8617804d60a0",
   "metadata": {
    "tags": []
   },
   "outputs": [
    {
     "data": {
      "text/plain": [
       "PCA(copy=True, iterated_power='auto', n_components=0.95, random_state=None,\n",
       "    svd_solver='auto', tol=0.0, whiten=False)"
      ]
     },
     "execution_count": 11,
     "metadata": {},
     "output_type": "execute_result"
    }
   ],
   "source": [
    "pca = PCA(n_components=0.95)\n",
    "pca.fit(X)"
   ]
  },
  {
   "cell_type": "code",
   "execution_count": 14,
   "id": "d51bdc6a-439b-4896-ad89-a703a5b26e10",
   "metadata": {
    "tags": []
   },
   "outputs": [],
   "source": [
    "reduced = pca.transform(X)"
   ]
  },
  {
   "cell_type": "code",
   "execution_count": 15,
   "id": "6f1579c3-b607-4499-aaf4-1c7df5361e50",
   "metadata": {
    "tags": []
   },
   "outputs": [
    {
     "data": {
      "text/plain": [
       "(1000, 862)"
      ]
     },
     "execution_count": 15,
     "metadata": {},
     "output_type": "execute_result"
    }
   ],
   "source": [
    "reduced.shape"
   ]
  },
  {
   "cell_type": "code",
   "execution_count": 16,
   "id": "4a6bb3e1-a050-43d2-be57-a802209239bb",
   "metadata": {
    "tags": []
   },
   "outputs": [],
   "source": [
    "from sklearn.cluster import KMeans"
   ]
  },
  {
   "cell_type": "code",
   "execution_count": 18,
   "id": "9c2a2c8d-1b55-4c5b-b19e-4ec6f9f36d59",
   "metadata": {
    "tags": []
   },
   "outputs": [],
   "source": [
    "num_clusters = 10\n",
    "kmeans = KMeans(n_clusters=num_clusters).fit(reduced)"
   ]
  },
  {
   "cell_type": "code",
   "execution_count": 20,
   "id": "be09712e-668d-4cd1-acb8-4fdf39ce3e91",
   "metadata": {
    "tags": []
   },
   "outputs": [
    {
     "data": {
      "text/plain": [
       "(10, 862)"
      ]
     },
     "execution_count": 20,
     "metadata": {},
     "output_type": "execute_result"
    }
   ],
   "source": [
    "kmeans.cluster_centers_.shape"
   ]
  },
  {
   "cell_type": "code",
   "execution_count": 23,
   "id": "39244255-9557-4b0f-ae4e-05551bb51ccd",
   "metadata": {
    "tags": []
   },
   "outputs": [],
   "source": [
    "unique, counts = np.unique(kmeans.labels_, return_counts=True)"
   ]
  },
  {
   "cell_type": "code",
   "execution_count": 25,
   "id": "e903e164-90a0-40c4-80b4-7947c35d42ab",
   "metadata": {
    "tags": []
   },
   "outputs": [
    {
     "data": {
      "text/plain": [
       "array([  7,  45,  30,  10, 319, 388,   3,  14,  22, 162])"
      ]
     },
     "execution_count": 25,
     "metadata": {},
     "output_type": "execute_result"
    }
   ],
   "source": [
    "counts"
   ]
  },
  {
   "cell_type": "code",
   "execution_count": 29,
   "id": "3d59e558-fdc9-4e6e-bd1f-b2eb9b83cb89",
   "metadata": {
    "tags": []
   },
   "outputs": [],
   "source": [
    "proportion = counts / reduced.shape[0]"
   ]
  },
  {
   "cell_type": "code",
   "execution_count": 30,
   "id": "5bd95999-c702-4ec8-84ca-c04f9f62668b",
   "metadata": {
    "tags": []
   },
   "outputs": [
    {
     "data": {
      "text/plain": [
       "array([0.007, 0.045, 0.03 , 0.01 , 0.319, 0.388, 0.003, 0.014, 0.022,\n",
       "       0.162])"
      ]
     },
     "execution_count": 30,
     "metadata": {},
     "output_type": "execute_result"
    }
   ],
   "source": [
    "proportion"
   ]
  },
  {
   "cell_type": "code",
   "execution_count": 33,
   "id": "224ef24e-d17a-488f-8a1c-561131cc7354",
   "metadata": {
    "tags": []
   },
   "outputs": [
    {
     "data": {
      "text/plain": [
       "3850626.7938258965"
      ]
     },
     "execution_count": 33,
     "metadata": {},
     "output_type": "execute_result"
    }
   ],
   "source": [
    "kmeans.inertia_"
   ]
  },
  {
   "cell_type": "code",
   "execution_count": 34,
   "id": "bb80ba2f-e182-4d8e-af9e-7690c8dd9e64",
   "metadata": {
    "tags": []
   },
   "outputs": [],
   "source": [
    "distances = kmeans.transform(reduced)"
   ]
  },
  {
   "cell_type": "code",
   "execution_count": 35,
   "id": "a97f326f-308e-4051-bfcf-6af7346b83c2",
   "metadata": {
    "tags": []
   },
   "outputs": [
    {
     "data": {
      "text/plain": [
       "(1000, 10)"
      ]
     },
     "execution_count": 35,
     "metadata": {},
     "output_type": "execute_result"
    }
   ],
   "source": [
    "distances.shape"
   ]
  },
  {
   "cell_type": "code",
   "execution_count": 40,
   "id": "cfdeb3f5-d941-4b87-8283-26cf12a9bc84",
   "metadata": {
    "tags": []
   },
   "outputs": [],
   "source": [
    "distances_to_center = np.array([d[idx] for d, idx in zip(distances, kmeans.labels_)])"
   ]
  },
  {
   "cell_type": "code",
   "execution_count": 41,
   "id": "a7b1f3f2-af6b-4155-afb7-6df0a9c3c81b",
   "metadata": {
    "tags": []
   },
   "outputs": [
    {
     "data": {
      "text/plain": [
       "62.040904793487655"
      ]
     },
     "execution_count": 41,
     "metadata": {},
     "output_type": "execute_result"
    }
   ],
   "source": [
    "distances_to_center.mean()"
   ]
  },
  {
   "cell_type": "code",
   "execution_count": 44,
   "id": "623f9b7f-2b8a-4150-ad1c-bf8d3bba9131",
   "metadata": {
    "tags": []
   },
   "outputs": [
    {
     "data": {
      "text/plain": [
       "1.2461646084280062"
      ]
     },
     "execution_count": 44,
     "metadata": {},
     "output_type": "execute_result"
    }
   ],
   "source": [
    "distances_to_center.std()"
   ]
  },
  {
   "cell_type": "code",
   "execution_count": 46,
   "id": "66f095b5-e232-4b32-8c6b-cb8f5b82e745",
   "metadata": {
    "tags": []
   },
   "outputs": [],
   "source": [
    "distances_span = np.array([(d.max() - d.min()) for d in distances])"
   ]
  },
  {
   "cell_type": "code",
   "execution_count": 47,
   "id": "5ad44e41-40ec-4180-a2b8-45e757dcc518",
   "metadata": {
    "tags": []
   },
   "outputs": [
    {
     "data": {
      "text/plain": [
       "11.013843036234153"
      ]
     },
     "execution_count": 47,
     "metadata": {},
     "output_type": "execute_result"
    }
   ],
   "source": [
    "distances_span.mean()"
   ]
  },
  {
   "cell_type": "code",
   "execution_count": 48,
   "id": "030f7349-499d-484c-9600-ffd16c963b1a",
   "metadata": {
    "tags": []
   },
   "outputs": [
    {
     "data": {
      "text/plain": [
       "0.9421704989282121"
      ]
     },
     "execution_count": 48,
     "metadata": {},
     "output_type": "execute_result"
    }
   ],
   "source": [
    "distances_span.std()"
   ]
  },
  {
   "cell_type": "markdown",
   "id": "d68df470-2c42-4624-952e-4011ba53a51a",
   "metadata": {},
   "source": [
    "## Compute new baseline"
   ]
  },
  {
   "cell_type": "code",
   "execution_count": 49,
   "id": "80538f73-443e-4f84-82fe-d36e446e560c",
   "metadata": {
    "tags": []
   },
   "outputs": [],
   "source": [
    "Q = np.array([rng.standard_normal(embed_dim) for idx in range(num_embeds)])"
   ]
  },
  {
   "cell_type": "code",
   "execution_count": 50,
   "id": "53f87f85-8627-4314-96f0-15c47e6268e8",
   "metadata": {
    "tags": []
   },
   "outputs": [
    {
     "data": {
      "text/plain": [
       "PCA(copy=True, iterated_power='auto', n_components=0.95, random_state=None,\n",
       "    svd_solver='auto', tol=0.0, whiten=False)"
      ]
     },
     "execution_count": 50,
     "metadata": {},
     "output_type": "execute_result"
    }
   ],
   "source": [
    "pca_q = PCA(n_components=0.95)\n",
    "pca_q.fit(Q)"
   ]
  },
  {
   "cell_type": "code",
   "execution_count": 51,
   "id": "fbf090e3-5871-4367-9663-736489939d89",
   "metadata": {
    "tags": []
   },
   "outputs": [],
   "source": [
    "reduced_q = pca.transform(Q)"
   ]
  },
  {
   "cell_type": "code",
   "execution_count": 52,
   "id": "f8f1f9b8-90e9-4619-8189-53a3535057e3",
   "metadata": {
    "tags": []
   },
   "outputs": [],
   "source": [
    "kmeans_q = KMeans(n_clusters=num_clusters).fit(reduced_q)"
   ]
  },
  {
   "cell_type": "code",
   "execution_count": 53,
   "id": "24b5d952-6b82-4bf4-9fd4-f5d377a2a041",
   "metadata": {
    "tags": []
   },
   "outputs": [],
   "source": [
    "unique_q, counts_q = np.unique(kmeans_q.labels_, return_counts=True)"
   ]
  },
  {
   "cell_type": "code",
   "execution_count": 54,
   "id": "cdd06932-75ce-416e-8078-9689209746d8",
   "metadata": {
    "tags": []
   },
   "outputs": [],
   "source": [
    "proportion_q = counts_q / reduced_q.shape[0]"
   ]
  },
  {
   "cell_type": "code",
   "execution_count": 55,
   "id": "62bb376e-35b8-4b5d-a9c4-29ee36243886",
   "metadata": {
    "tags": []
   },
   "outputs": [
    {
     "data": {
      "text/plain": [
       "(1000, 862)"
      ]
     },
     "execution_count": 55,
     "metadata": {},
     "output_type": "execute_result"
    }
   ],
   "source": [
    "reduced_q.shape"
   ]
  },
  {
   "cell_type": "code",
   "execution_count": 56,
   "id": "cc4b7c89-0525-4af4-b4cc-b93815aa89f7",
   "metadata": {
    "tags": []
   },
   "outputs": [
    {
     "data": {
      "text/plain": [
       "849432.8058074604"
      ]
     },
     "execution_count": 56,
     "metadata": {},
     "output_type": "execute_result"
    }
   ],
   "source": [
    "kmeans_q.inertia_"
   ]
  },
  {
   "cell_type": "code",
   "execution_count": 57,
   "id": "56399512-e293-46e3-a351-10fdb499115f",
   "metadata": {
    "tags": []
   },
   "outputs": [],
   "source": [
    "distances_q = kmeans_q.transform(reduced_q)"
   ]
  },
  {
   "cell_type": "code",
   "execution_count": 58,
   "id": "c7e07cff-e694-4441-846b-4780a459cdec",
   "metadata": {
    "tags": []
   },
   "outputs": [],
   "source": [
    "distances_to_center_q = np.array([d[idx] for d, idx in zip(distances_q, kmeans_q.labels_)])"
   ]
  },
  {
   "cell_type": "code",
   "execution_count": 59,
   "id": "a413cdc6-0ab9-48dc-91a6-12df1b71d11d",
   "metadata": {
    "tags": []
   },
   "outputs": [
    {
     "data": {
      "text/plain": [
       "29.13537454834681"
      ]
     },
     "execution_count": 59,
     "metadata": {},
     "output_type": "execute_result"
    }
   ],
   "source": [
    "distances_to_center_q.mean()"
   ]
  },
  {
   "cell_type": "code",
   "execution_count": 60,
   "id": "5d5677be-73e3-46dc-b859-98c8e168eee4",
   "metadata": {
    "tags": []
   },
   "outputs": [
    {
     "data": {
      "text/plain": [
       "0.7501704706298035"
      ]
     },
     "execution_count": 60,
     "metadata": {},
     "output_type": "execute_result"
    }
   ],
   "source": [
    "distances_to_center_q.std()"
   ]
  },
  {
   "cell_type": "code",
   "execution_count": 61,
   "id": "fb881803-b9f4-4db0-b7f2-c4a050c39948",
   "metadata": {
    "tags": []
   },
   "outputs": [],
   "source": [
    "distances_span_q = np.array([(d.max() - d.min()) for d in distances_q])"
   ]
  },
  {
   "cell_type": "code",
   "execution_count": 62,
   "id": "3c2f2b84-d41b-4d19-9304-b214735d1a2f",
   "metadata": {
    "tags": []
   },
   "outputs": [
    {
     "data": {
      "text/plain": [
       "2.744750933658466"
      ]
     },
     "execution_count": 62,
     "metadata": {},
     "output_type": "execute_result"
    }
   ],
   "source": [
    "distances_span_q.mean()"
   ]
  },
  {
   "cell_type": "code",
   "execution_count": 63,
   "id": "a26ee294-9166-4cdd-89e7-69689910dd39",
   "metadata": {
    "tags": []
   },
   "outputs": [
    {
     "data": {
      "text/plain": [
       "0.4567290935252769"
      ]
     },
     "execution_count": 63,
     "metadata": {},
     "output_type": "execute_result"
    }
   ],
   "source": [
    "distances_span_q.std()"
   ]
  },
  {
   "cell_type": "markdown",
   "id": "5076c1b0-61ef-4a14-a8f7-66076d67e563",
   "metadata": {},
   "source": [
    "## Comparison"
   ]
  },
  {
   "cell_type": "code",
   "execution_count": 64,
   "id": "a9d3638b-181d-43b8-ab28-0abb251602ee",
   "metadata": {
    "tags": []
   },
   "outputs": [
    {
     "name": "stdout",
     "output_type": "stream",
     "text": [
      "Change in dimensions after PCA: 0\n"
     ]
    }
   ],
   "source": [
    "print(f\"Change in dimensions after PCA: {reduced_q.shape[1] - reduced.shape[1]}\")"
   ]
  },
  {
   "cell_type": "code",
   "execution_count": 72,
   "id": "3b221fdf-3926-40b1-b8d8-056b6af3a415",
   "metadata": {
    "tags": []
   },
   "outputs": [
    {
     "name": "stdout",
     "output_type": "stream",
     "text": [
      "Change in centroid location: [24.29478196785469, 9.921150675881297, 12.906074809768342, 20.964729505574148, 4.679796653390379, 7.267394171524955, 39.6715833862202, 17.480444818721494, 14.339360910407517, 5.461923124989665]\n"
     ]
    }
   ],
   "source": [
    "print(f\"Change in centroid location: {[np.linalg.norm(c1-c2) for c1, c2 in zip(kmeans_q.cluster_centers_, kmeans.cluster_centers_)]}\")"
   ]
  },
  {
   "cell_type": "code",
   "execution_count": 67,
   "id": "e52c47af-9b11-49f4-b56e-244d082695e1",
   "metadata": {
    "tags": []
   },
   "outputs": [
    {
     "name": "stdout",
     "output_type": "stream",
     "text": [
      "Change in proportion of samples in each cluster: [ 0.135  0.078  0.013  0.127 -0.2   -0.362  0.004  0.048  0.075  0.082]\n"
     ]
    }
   ],
   "source": [
    "print(f\"Change in proportion of samples in each cluster: {proportion_q - proportion}\")"
   ]
  },
  {
   "cell_type": "code",
   "execution_count": 68,
   "id": "7c126e2e-39c3-4ff7-8bc9-b76f86db1d35",
   "metadata": {
    "tags": []
   },
   "outputs": [
    {
     "name": "stdout",
     "output_type": "stream",
     "text": [
      "Change in mean of sample distance: -32.905530245140845\n"
     ]
    }
   ],
   "source": [
    "print(f\"Change in mean of sample distance: {distances_to_center_q.mean() - distances_to_center.mean()}\")"
   ]
  },
  {
   "cell_type": "code",
   "execution_count": 69,
   "id": "69611533-2b4c-475e-b29a-a2fde62f83ea",
   "metadata": {
    "tags": []
   },
   "outputs": [
    {
     "name": "stdout",
     "output_type": "stream",
     "text": [
      "Change in standard deviation of sample distance: -0.4959941377982028\n"
     ]
    }
   ],
   "source": [
    "print(f\"Change in standard deviation of sample distance: {distances_to_center_q.std() - distances_to_center.std()}\")"
   ]
  },
  {
   "cell_type": "code",
   "execution_count": 70,
   "id": "f9626aac-95d9-4742-ba7c-ffd7ecdf637f",
   "metadata": {
    "tags": []
   },
   "outputs": [
    {
     "name": "stdout",
     "output_type": "stream",
     "text": [
      "Change in mean of sample span: -8.269092102575687\n"
     ]
    }
   ],
   "source": [
    "print(f\"Change in mean of sample span: {distances_span_q.mean() - distances_span.mean()}\")"
   ]
  },
  {
   "cell_type": "code",
   "execution_count": 71,
   "id": "f7e526b7-d46b-4516-9cdc-8d68983f8dfa",
   "metadata": {
    "tags": []
   },
   "outputs": [
    {
     "name": "stdout",
     "output_type": "stream",
     "text": [
      "Change in standard deviation of sample span: -0.48544140540293523\n"
     ]
    }
   ],
   "source": [
    "print(f\"Change in standard deviation of sample span: {distances_span_q.std() - distances_span.std()}\")"
   ]
  },
  {
   "cell_type": "code",
   "execution_count": 66,
   "id": "6fee50c7-532c-428c-85ee-73621198a563",
   "metadata": {
    "tags": []
   },
   "outputs": [
    {
     "name": "stdout",
     "output_type": "stream",
     "text": [
      "Change in inertia: -3001193.988018436\n"
     ]
    }
   ],
   "source": [
    "print(f\"Change in inertia: {kmeans_q.inertia_ - kmeans.inertia_}\")"
   ]
  },
  {
   "cell_type": "code",
   "execution_count": null,
   "id": "2f71be53-dfc5-4136-8909-b120dd9276cf",
   "metadata": {},
   "outputs": [],
   "source": []
  }
 ],
 "metadata": {
  "availableInstances": [
   {
    "_defaultOrder": 0,
    "_isFastLaunch": true,
    "category": "General purpose",
    "gpuNum": 0,
    "hideHardwareSpecs": false,
    "memoryGiB": 4,
    "name": "ml.t3.medium",
    "vcpuNum": 2
   },
   {
    "_defaultOrder": 1,
    "_isFastLaunch": false,
    "category": "General purpose",
    "gpuNum": 0,
    "hideHardwareSpecs": false,
    "memoryGiB": 8,
    "name": "ml.t3.large",
    "vcpuNum": 2
   },
   {
    "_defaultOrder": 2,
    "_isFastLaunch": false,
    "category": "General purpose",
    "gpuNum": 0,
    "hideHardwareSpecs": false,
    "memoryGiB": 16,
    "name": "ml.t3.xlarge",
    "vcpuNum": 4
   },
   {
    "_defaultOrder": 3,
    "_isFastLaunch": false,
    "category": "General purpose",
    "gpuNum": 0,
    "hideHardwareSpecs": false,
    "memoryGiB": 32,
    "name": "ml.t3.2xlarge",
    "vcpuNum": 8
   },
   {
    "_defaultOrder": 4,
    "_isFastLaunch": true,
    "category": "General purpose",
    "gpuNum": 0,
    "hideHardwareSpecs": false,
    "memoryGiB": 8,
    "name": "ml.m5.large",
    "vcpuNum": 2
   },
   {
    "_defaultOrder": 5,
    "_isFastLaunch": false,
    "category": "General purpose",
    "gpuNum": 0,
    "hideHardwareSpecs": false,
    "memoryGiB": 16,
    "name": "ml.m5.xlarge",
    "vcpuNum": 4
   },
   {
    "_defaultOrder": 6,
    "_isFastLaunch": false,
    "category": "General purpose",
    "gpuNum": 0,
    "hideHardwareSpecs": false,
    "memoryGiB": 32,
    "name": "ml.m5.2xlarge",
    "vcpuNum": 8
   },
   {
    "_defaultOrder": 7,
    "_isFastLaunch": false,
    "category": "General purpose",
    "gpuNum": 0,
    "hideHardwareSpecs": false,
    "memoryGiB": 64,
    "name": "ml.m5.4xlarge",
    "vcpuNum": 16
   },
   {
    "_defaultOrder": 8,
    "_isFastLaunch": false,
    "category": "General purpose",
    "gpuNum": 0,
    "hideHardwareSpecs": false,
    "memoryGiB": 128,
    "name": "ml.m5.8xlarge",
    "vcpuNum": 32
   },
   {
    "_defaultOrder": 9,
    "_isFastLaunch": false,
    "category": "General purpose",
    "gpuNum": 0,
    "hideHardwareSpecs": false,
    "memoryGiB": 192,
    "name": "ml.m5.12xlarge",
    "vcpuNum": 48
   },
   {
    "_defaultOrder": 10,
    "_isFastLaunch": false,
    "category": "General purpose",
    "gpuNum": 0,
    "hideHardwareSpecs": false,
    "memoryGiB": 256,
    "name": "ml.m5.16xlarge",
    "vcpuNum": 64
   },
   {
    "_defaultOrder": 11,
    "_isFastLaunch": false,
    "category": "General purpose",
    "gpuNum": 0,
    "hideHardwareSpecs": false,
    "memoryGiB": 384,
    "name": "ml.m5.24xlarge",
    "vcpuNum": 96
   },
   {
    "_defaultOrder": 12,
    "_isFastLaunch": false,
    "category": "General purpose",
    "gpuNum": 0,
    "hideHardwareSpecs": false,
    "memoryGiB": 8,
    "name": "ml.m5d.large",
    "vcpuNum": 2
   },
   {
    "_defaultOrder": 13,
    "_isFastLaunch": false,
    "category": "General purpose",
    "gpuNum": 0,
    "hideHardwareSpecs": false,
    "memoryGiB": 16,
    "name": "ml.m5d.xlarge",
    "vcpuNum": 4
   },
   {
    "_defaultOrder": 14,
    "_isFastLaunch": false,
    "category": "General purpose",
    "gpuNum": 0,
    "hideHardwareSpecs": false,
    "memoryGiB": 32,
    "name": "ml.m5d.2xlarge",
    "vcpuNum": 8
   },
   {
    "_defaultOrder": 15,
    "_isFastLaunch": false,
    "category": "General purpose",
    "gpuNum": 0,
    "hideHardwareSpecs": false,
    "memoryGiB": 64,
    "name": "ml.m5d.4xlarge",
    "vcpuNum": 16
   },
   {
    "_defaultOrder": 16,
    "_isFastLaunch": false,
    "category": "General purpose",
    "gpuNum": 0,
    "hideHardwareSpecs": false,
    "memoryGiB": 128,
    "name": "ml.m5d.8xlarge",
    "vcpuNum": 32
   },
   {
    "_defaultOrder": 17,
    "_isFastLaunch": false,
    "category": "General purpose",
    "gpuNum": 0,
    "hideHardwareSpecs": false,
    "memoryGiB": 192,
    "name": "ml.m5d.12xlarge",
    "vcpuNum": 48
   },
   {
    "_defaultOrder": 18,
    "_isFastLaunch": false,
    "category": "General purpose",
    "gpuNum": 0,
    "hideHardwareSpecs": false,
    "memoryGiB": 256,
    "name": "ml.m5d.16xlarge",
    "vcpuNum": 64
   },
   {
    "_defaultOrder": 19,
    "_isFastLaunch": false,
    "category": "General purpose",
    "gpuNum": 0,
    "hideHardwareSpecs": false,
    "memoryGiB": 384,
    "name": "ml.m5d.24xlarge",
    "vcpuNum": 96
   },
   {
    "_defaultOrder": 20,
    "_isFastLaunch": false,
    "category": "General purpose",
    "gpuNum": 0,
    "hideHardwareSpecs": true,
    "memoryGiB": 0,
    "name": "ml.geospatial.interactive",
    "supportedImageNames": [
     "sagemaker-geospatial-v1-0"
    ],
    "vcpuNum": 0
   },
   {
    "_defaultOrder": 21,
    "_isFastLaunch": true,
    "category": "Compute optimized",
    "gpuNum": 0,
    "hideHardwareSpecs": false,
    "memoryGiB": 4,
    "name": "ml.c5.large",
    "vcpuNum": 2
   },
   {
    "_defaultOrder": 22,
    "_isFastLaunch": false,
    "category": "Compute optimized",
    "gpuNum": 0,
    "hideHardwareSpecs": false,
    "memoryGiB": 8,
    "name": "ml.c5.xlarge",
    "vcpuNum": 4
   },
   {
    "_defaultOrder": 23,
    "_isFastLaunch": false,
    "category": "Compute optimized",
    "gpuNum": 0,
    "hideHardwareSpecs": false,
    "memoryGiB": 16,
    "name": "ml.c5.2xlarge",
    "vcpuNum": 8
   },
   {
    "_defaultOrder": 24,
    "_isFastLaunch": false,
    "category": "Compute optimized",
    "gpuNum": 0,
    "hideHardwareSpecs": false,
    "memoryGiB": 32,
    "name": "ml.c5.4xlarge",
    "vcpuNum": 16
   },
   {
    "_defaultOrder": 25,
    "_isFastLaunch": false,
    "category": "Compute optimized",
    "gpuNum": 0,
    "hideHardwareSpecs": false,
    "memoryGiB": 72,
    "name": "ml.c5.9xlarge",
    "vcpuNum": 36
   },
   {
    "_defaultOrder": 26,
    "_isFastLaunch": false,
    "category": "Compute optimized",
    "gpuNum": 0,
    "hideHardwareSpecs": false,
    "memoryGiB": 96,
    "name": "ml.c5.12xlarge",
    "vcpuNum": 48
   },
   {
    "_defaultOrder": 27,
    "_isFastLaunch": false,
    "category": "Compute optimized",
    "gpuNum": 0,
    "hideHardwareSpecs": false,
    "memoryGiB": 144,
    "name": "ml.c5.18xlarge",
    "vcpuNum": 72
   },
   {
    "_defaultOrder": 28,
    "_isFastLaunch": false,
    "category": "Compute optimized",
    "gpuNum": 0,
    "hideHardwareSpecs": false,
    "memoryGiB": 192,
    "name": "ml.c5.24xlarge",
    "vcpuNum": 96
   },
   {
    "_defaultOrder": 29,
    "_isFastLaunch": true,
    "category": "Accelerated computing",
    "gpuNum": 1,
    "hideHardwareSpecs": false,
    "memoryGiB": 16,
    "name": "ml.g4dn.xlarge",
    "vcpuNum": 4
   },
   {
    "_defaultOrder": 30,
    "_isFastLaunch": false,
    "category": "Accelerated computing",
    "gpuNum": 1,
    "hideHardwareSpecs": false,
    "memoryGiB": 32,
    "name": "ml.g4dn.2xlarge",
    "vcpuNum": 8
   },
   {
    "_defaultOrder": 31,
    "_isFastLaunch": false,
    "category": "Accelerated computing",
    "gpuNum": 1,
    "hideHardwareSpecs": false,
    "memoryGiB": 64,
    "name": "ml.g4dn.4xlarge",
    "vcpuNum": 16
   },
   {
    "_defaultOrder": 32,
    "_isFastLaunch": false,
    "category": "Accelerated computing",
    "gpuNum": 1,
    "hideHardwareSpecs": false,
    "memoryGiB": 128,
    "name": "ml.g4dn.8xlarge",
    "vcpuNum": 32
   },
   {
    "_defaultOrder": 33,
    "_isFastLaunch": false,
    "category": "Accelerated computing",
    "gpuNum": 4,
    "hideHardwareSpecs": false,
    "memoryGiB": 192,
    "name": "ml.g4dn.12xlarge",
    "vcpuNum": 48
   },
   {
    "_defaultOrder": 34,
    "_isFastLaunch": false,
    "category": "Accelerated computing",
    "gpuNum": 1,
    "hideHardwareSpecs": false,
    "memoryGiB": 256,
    "name": "ml.g4dn.16xlarge",
    "vcpuNum": 64
   },
   {
    "_defaultOrder": 35,
    "_isFastLaunch": false,
    "category": "Accelerated computing",
    "gpuNum": 1,
    "hideHardwareSpecs": false,
    "memoryGiB": 61,
    "name": "ml.p3.2xlarge",
    "vcpuNum": 8
   },
   {
    "_defaultOrder": 36,
    "_isFastLaunch": false,
    "category": "Accelerated computing",
    "gpuNum": 4,
    "hideHardwareSpecs": false,
    "memoryGiB": 244,
    "name": "ml.p3.8xlarge",
    "vcpuNum": 32
   },
   {
    "_defaultOrder": 37,
    "_isFastLaunch": false,
    "category": "Accelerated computing",
    "gpuNum": 8,
    "hideHardwareSpecs": false,
    "memoryGiB": 488,
    "name": "ml.p3.16xlarge",
    "vcpuNum": 64
   },
   {
    "_defaultOrder": 38,
    "_isFastLaunch": false,
    "category": "Accelerated computing",
    "gpuNum": 8,
    "hideHardwareSpecs": false,
    "memoryGiB": 768,
    "name": "ml.p3dn.24xlarge",
    "vcpuNum": 96
   },
   {
    "_defaultOrder": 39,
    "_isFastLaunch": false,
    "category": "Memory Optimized",
    "gpuNum": 0,
    "hideHardwareSpecs": false,
    "memoryGiB": 16,
    "name": "ml.r5.large",
    "vcpuNum": 2
   },
   {
    "_defaultOrder": 40,
    "_isFastLaunch": false,
    "category": "Memory Optimized",
    "gpuNum": 0,
    "hideHardwareSpecs": false,
    "memoryGiB": 32,
    "name": "ml.r5.xlarge",
    "vcpuNum": 4
   },
   {
    "_defaultOrder": 41,
    "_isFastLaunch": false,
    "category": "Memory Optimized",
    "gpuNum": 0,
    "hideHardwareSpecs": false,
    "memoryGiB": 64,
    "name": "ml.r5.2xlarge",
    "vcpuNum": 8
   },
   {
    "_defaultOrder": 42,
    "_isFastLaunch": false,
    "category": "Memory Optimized",
    "gpuNum": 0,
    "hideHardwareSpecs": false,
    "memoryGiB": 128,
    "name": "ml.r5.4xlarge",
    "vcpuNum": 16
   },
   {
    "_defaultOrder": 43,
    "_isFastLaunch": false,
    "category": "Memory Optimized",
    "gpuNum": 0,
    "hideHardwareSpecs": false,
    "memoryGiB": 256,
    "name": "ml.r5.8xlarge",
    "vcpuNum": 32
   },
   {
    "_defaultOrder": 44,
    "_isFastLaunch": false,
    "category": "Memory Optimized",
    "gpuNum": 0,
    "hideHardwareSpecs": false,
    "memoryGiB": 384,
    "name": "ml.r5.12xlarge",
    "vcpuNum": 48
   },
   {
    "_defaultOrder": 45,
    "_isFastLaunch": false,
    "category": "Memory Optimized",
    "gpuNum": 0,
    "hideHardwareSpecs": false,
    "memoryGiB": 512,
    "name": "ml.r5.16xlarge",
    "vcpuNum": 64
   },
   {
    "_defaultOrder": 46,
    "_isFastLaunch": false,
    "category": "Memory Optimized",
    "gpuNum": 0,
    "hideHardwareSpecs": false,
    "memoryGiB": 768,
    "name": "ml.r5.24xlarge",
    "vcpuNum": 96
   },
   {
    "_defaultOrder": 47,
    "_isFastLaunch": false,
    "category": "Accelerated computing",
    "gpuNum": 1,
    "hideHardwareSpecs": false,
    "memoryGiB": 16,
    "name": "ml.g5.xlarge",
    "vcpuNum": 4
   },
   {
    "_defaultOrder": 48,
    "_isFastLaunch": false,
    "category": "Accelerated computing",
    "gpuNum": 1,
    "hideHardwareSpecs": false,
    "memoryGiB": 32,
    "name": "ml.g5.2xlarge",
    "vcpuNum": 8
   },
   {
    "_defaultOrder": 49,
    "_isFastLaunch": false,
    "category": "Accelerated computing",
    "gpuNum": 1,
    "hideHardwareSpecs": false,
    "memoryGiB": 64,
    "name": "ml.g5.4xlarge",
    "vcpuNum": 16
   },
   {
    "_defaultOrder": 50,
    "_isFastLaunch": false,
    "category": "Accelerated computing",
    "gpuNum": 1,
    "hideHardwareSpecs": false,
    "memoryGiB": 128,
    "name": "ml.g5.8xlarge",
    "vcpuNum": 32
   },
   {
    "_defaultOrder": 51,
    "_isFastLaunch": false,
    "category": "Accelerated computing",
    "gpuNum": 1,
    "hideHardwareSpecs": false,
    "memoryGiB": 256,
    "name": "ml.g5.16xlarge",
    "vcpuNum": 64
   },
   {
    "_defaultOrder": 52,
    "_isFastLaunch": false,
    "category": "Accelerated computing",
    "gpuNum": 4,
    "hideHardwareSpecs": false,
    "memoryGiB": 192,
    "name": "ml.g5.12xlarge",
    "vcpuNum": 48
   },
   {
    "_defaultOrder": 53,
    "_isFastLaunch": false,
    "category": "Accelerated computing",
    "gpuNum": 4,
    "hideHardwareSpecs": false,
    "memoryGiB": 384,
    "name": "ml.g5.24xlarge",
    "vcpuNum": 96
   },
   {
    "_defaultOrder": 54,
    "_isFastLaunch": false,
    "category": "Accelerated computing",
    "gpuNum": 8,
    "hideHardwareSpecs": false,
    "memoryGiB": 768,
    "name": "ml.g5.48xlarge",
    "vcpuNum": 192
   },
   {
    "_defaultOrder": 55,
    "_isFastLaunch": false,
    "category": "Accelerated computing",
    "gpuNum": 8,
    "hideHardwareSpecs": false,
    "memoryGiB": 1152,
    "name": "ml.p4d.24xlarge",
    "vcpuNum": 96
   },
   {
    "_defaultOrder": 56,
    "_isFastLaunch": false,
    "category": "Accelerated computing",
    "gpuNum": 8,
    "hideHardwareSpecs": false,
    "memoryGiB": 1152,
    "name": "ml.p4de.24xlarge",
    "vcpuNum": 96
   }
  ],
  "instance_type": "ml.t3.medium",
  "kernelspec": {
   "display_name": "Python 3 (Data Science)",
   "language": "python",
   "name": "python3__SAGEMAKER_INTERNAL__arn:aws:sagemaker:us-east-1:081325390199:image/datascience-1.0"
  },
  "language_info": {
   "codemirror_mode": {
    "name": "ipython",
    "version": 3
   },
   "file_extension": ".py",
   "mimetype": "text/x-python",
   "name": "python",
   "nbconvert_exporter": "python",
   "pygments_lexer": "ipython3",
   "version": "3.7.10"
  }
 },
 "nbformat": 4,
 "nbformat_minor": 5
}
