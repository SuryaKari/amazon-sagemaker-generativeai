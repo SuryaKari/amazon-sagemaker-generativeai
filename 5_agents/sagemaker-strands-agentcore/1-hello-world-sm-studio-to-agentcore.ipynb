{
 "cells": [
  {
   "cell_type": "code",
   "execution_count": null,
   "id": "1f2e66e3-d676-4070-84de-a08ca144a8f8",
   "metadata": {},
   "outputs": [],
   "source": [
    "%%writefile requirements.txt\n",
    "boto3\n",
    "strands-agents\n",
    "strands-agents[sagemaker]\n",
    "strands-agents-tools\n",
    "bedrock-agentcore\n",
    "bedrock-agentcore-starter-toolkit\n",
    "openai"
   ]
  },
  {
   "cell_type": "code",
   "execution_count": null,
   "id": "9b12c93d-8aca-4c79-af28-84aff7b94966",
   "metadata": {
    "scrolled": true
   },
   "outputs": [],
   "source": [
    "%pip install -r requirements.txt --upgrade"
   ]
  },
  {
   "cell_type": "markdown",
   "id": "baab802b-1e22-459e-85d1-46a8f5d8f8b8",
   "metadata": {},
   "source": [
    "# Creating an AgentCore Runtime app from SageMaker Studio\n",
    "\n",
    "Amazon Bedrock AgentCore Runtime provides a secure, serverless and purpose-built hosting environment for deploying and running AI agents or tools. It offers a lot of benefits, which you can learn about in the [Host agent or tools with Amazon Bedrock AgentCore Runtime](https://docs.aws.amazon.com/bedrock-agentcore/latest/devguide/agents-tools-runtime.html) documentation.\n",
    "\n",
    "![building-agents-in-sagemaker-studio.png](images/building-agents-in-sagemaker-studio.png)\n",
    "\n",
    "In this notebook, you will learn how to use SageMaker Studio to:\n",
    "\n",
    "1. Create an AI Agent with [Strands Agents](https://strandsagents.com/) powered by a SageMaker AI endpoint\n",
    "2. Configure the agent to run on Amazon Bedrock AgentCore Runtime\n",
    "    - Using the Bedrock Agentcore Starter Toolkit SDK\n",
    "    - Directly creating an ECR image with Amazon SageMaker Studio Image Build CLI - not shown in this notebook, refer to the [Using the Amazon SageMaker Studio Image Build CLI to build container images from your Studio JupyterLab notebooks](https://aws.amazon.com/blogs/machine-learning/using-the-amazon-sagemaker-studio-image-build-cli-to-build-container-images-from-your-studio-notebooks/) blog\n",
    "4. Launch it and invoke it\n",
    "\n",
    "## Requirements\n",
    "\n",
    "1. A model deployed on a **SageMaker AI Endpoint** - in our case, Qwen 3 32B. Instance type is irrelevant. If you don't know where to start, we suggest deploying a model from **SageMaker JumpStart** - learn more [here](https://aws.amazon.com/blogs/machine-learning/qwen3-family-of-reasoning-models-now-available-in-amazon-bedrock-marketplace-and-amazon-sagemaker-jumpstart/)\n",
    "1. A **SageMaker AI Execution Role** with broad enough permissions, including create/delete IAM Role, create/delete ECR repository, start CodeBuild projects\n",
    "1. **Docker enabled on SageMaker Studio** - this needs to be enabled both at the level of the Domain and the User profile (required for Local build of the image)\n",
    "\n",
    "![image.png](images/sm-studio-docker-permissions.png)"
   ]
  },
  {
   "cell_type": "code",
   "execution_count": null,
   "id": "95d412a9-fc77-43b6-9c3b-e3d61389ccdc",
   "metadata": {},
   "outputs": [],
   "source": [
    "import os\n",
    "SAGEMAKER_ENDPOINT_NAME = os.environ.get(\"SM_AI_ENDPOINT\", \"jumpstart-dft-hf-reasoning-qwen3-32-20250804-154835\")"
   ]
  },
  {
   "cell_type": "code",
   "execution_count": null,
   "id": "2d2776b5-cc24-4a67-b1e1-f41a2464c931",
   "metadata": {},
   "outputs": [],
   "source": [
    "%%writefile agent.py\n",
    "from bedrock_agentcore.runtime import BedrockAgentCoreApp\n",
    "from strands import Agent\n",
    "from strands.models.sagemaker import SageMakerAIModel\n",
    "import os\n",
    "\n",
    "SAGEMAKER_ENDPOINT_NAME = os.environ.get(\"SM_AI_ENDPOINT\", \"jumpstart-dft-hf-reasoning-qwen3-32-20250804-154835\")\n",
    "\n",
    "app = BedrockAgentCoreApp()\n",
    "agent = Agent()\n",
    "model = SageMakerAIModel(\n",
    "    endpoint_config={\"endpoint_name\": SAGEMAKER_ENDPOINT_NAME},\n",
    "    payload_config={\"max_tokens\": 1024*5, \"stream\": True}\n",
    ")\n",
    "\n",
    "@app.entrypoint\n",
    "def invoke(payload):\n",
    "    \"\"\"Process user input and return a response\"\"\"\n",
    "    user_message = payload.get(\"prompt\", \"Hello\")\n",
    "    result = agent(user_message)\n",
    "    return {\"result\": result.message}\n",
    "\n",
    "if __name__ == \"__main__\":\n",
    "    app.run()"
   ]
  },
  {
   "cell_type": "markdown",
   "id": "d7f0ad7a-b1db-445c-8b53-d4aa3d31a893",
   "metadata": {},
   "source": [
    "## Local Testing"
   ]
  },
  {
   "cell_type": "code",
   "execution_count": null,
   "id": "36823fcc-660c-4ad9-98e3-23bbc03c783f",
   "metadata": {},
   "outputs": [],
   "source": [
    "import nest_asyncio\n",
    "nest_asyncio.apply()"
   ]
  },
  {
   "cell_type": "code",
   "execution_count": null,
   "id": "161e7508-d6a2-424e-8757-a4cf8f7ec649",
   "metadata": {},
   "outputs": [],
   "source": [
    "!python agent.py"
   ]
  },
  {
   "cell_type": "markdown",
   "id": "b29ab0d2-bfe1-4b58-aef0-5825d16aa53b",
   "metadata": {},
   "source": [
    "Now, go to the Console in SageMaker AI and run:\n",
    "\n",
    "```bash\n",
    "curl -X POST http://localhost:8080/invocations \\\n",
    "-H \"Content-Type: application/json\" \\\n",
    "-d '{\"prompt\": \"Hello world!\"}'\n",
    "```"
   ]
  },
  {
   "cell_type": "markdown",
   "id": "0547848f-720e-4741-a07e-217d6bfe2d82",
   "metadata": {},
   "source": [
    "## Deployment"
   ]
  },
  {
   "cell_type": "code",
   "execution_count": null,
   "id": "022c2cfe-44e5-4a0c-ab03-028dbfaa4d50",
   "metadata": {},
   "outputs": [],
   "source": [
    "from bedrock_agentcore_starter_toolkit import Runtime\n",
    "import boto3\n",
    "from sagemaker.utils import name_from_base\n",
    "\n",
    "\n",
    "agent_name = \"hello_world_sagemaker\"\n",
    "\n",
    "agentcore_runtime = Runtime()\n",
    "response = agentcore_runtime.configure(\n",
    "    agent_name=agent_name,\n",
    "    region=boto3.Session().region_name,\n",
    "    auto_create_ecr=True,   # Instructs Runtime to auto-create ECR repo\n",
    "    auto_create_execution_role=True,  # Instructs Runtime to auto-create execution role\n",
    "    entrypoint=\"agent.py\", # The core of the agent\n",
    "    requirements_file=\"requirements.txt\", # dependencies\n",
    ")\n",
    "\n",
    "launch_result = agentcore_runtime.launch(auto_update_on_conflict=True)\n",
    "print(\"Launch completed ✓\")\n",
    "print(f\"Agent ARN: {launch_result.agent_arn}\")\n",
    "print(f\"Agent ID: {launch_result.agent_id}\")"
   ]
  },
  {
   "cell_type": "markdown",
   "id": "e3605fe3-190d-4e55-bc33-8f85bb5f469b",
   "metadata": {
    "execution": {
     "iopub.execute_input": "2025-08-06T16:07:37.530655Z",
     "iopub.status.busy": "2025-08-06T16:07:37.530340Z",
     "iopub.status.idle": "2025-08-06T16:07:37.534909Z",
     "shell.execute_reply": "2025-08-06T16:07:37.534430Z",
     "shell.execute_reply.started": "2025-08-06T16:07:37.530635Z"
    }
   },
   "source": [
    "## Add the SageMaker AI permissions\n",
    "\n",
    "Since we need to have the agent invoke the SageMaker AI Endpoint, we'll need to add the right permissions."
   ]
  },
  {
   "cell_type": "code",
   "execution_count": null,
   "id": "f8d65fa2-bda1-4c1b-a27b-2e7fe04dcd52",
   "metadata": {},
   "outputs": [],
   "source": [
    "agentcore_client = boto3.client('bedrock-agentcore-control')\n",
    "execution_role_arn = agentcore_client.get_agent_runtime(agentRuntimeId=launch_result.agent_id)[\"roleArn\"]\n",
    "execution_role_name = execution_role_arn.split('/')[-1]"
   ]
  },
  {
   "cell_type": "code",
   "execution_count": null,
   "id": "21464ba6-2536-4672-8ffa-17548e2695cd",
   "metadata": {},
   "outputs": [],
   "source": [
    "import json\n",
    "\n",
    "region_name = boto3.Session().region_name\n",
    "account_id = boto3.client(\"sts\").get_caller_identity()[\"Account\"]\n",
    "# Get the Agent Execution Role ARN and attach the SageMake Invoke Endpoint policy\n",
    "iam_client = boto3.client(\"iam\")\n",
    "permissions_policy = {\n",
    "  \"Version\": \"2012-10-17\",\n",
    "  \"Statement\": [\n",
    "    {\n",
    "      \"Effect\": \"Allow\",\n",
    "      \"Action\": [\n",
    "        \"sagemaker:InvokeEndpoint\", \"sagemaker:InvokeEndpointAsync\",\n",
    "        \"sagemaker:InvokeEndpointWithResponseStream\"\n",
    "      ],\n",
    "      \"Resource\": f\"arn:aws:sagemaker:{region_name}:{account_id}:endpoint/{SAGEMAKER_ENDPOINT_NAME}\"\n",
    "    }\n",
    "  ]\n",
    "}\n",
    "iam_client.put_role_policy(\n",
    "    RoleName=execution_role_name,\n",
    "    PolicyName=\"sagemaker-invoke-endpoint\",\n",
    "    PolicyDocument=json.dumps(permissions_policy)\n",
    ")"
   ]
  },
  {
   "cell_type": "code",
   "execution_count": null,
   "id": "09220989-b77d-4abc-9df4-28252ccda24b",
   "metadata": {},
   "outputs": [],
   "source": [
    "import time\n",
    "status_response = agentcore_runtime.status()\n",
    "status = status_response.endpoint['status']\n",
    "end_status = ['READY', 'CREATE_FAILED', 'DELETE_FAILED', 'UPDATE_FAILED']\n",
    "while status not in end_status:\n",
    "    time.sleep(10)\n",
    "    status_response = agentcore_runtime.status()\n",
    "    status = status_response.endpoint['status']\n",
    "    print(status)\n",
    "status"
   ]
  },
  {
   "cell_type": "code",
   "execution_count": null,
   "id": "73a6f62a-90eb-4a4e-8482-f69628463ae6",
   "metadata": {
    "scrolled": true
   },
   "outputs": [],
   "source": [
    "invoke_response = agentcore_runtime.invoke({\"prompt\": \"Hello world from SageMaker AI!\"})\n",
    "json.loads(invoke_response['response'][0])"
   ]
  },
  {
   "cell_type": "markdown",
   "id": "45570b51-af28-4733-8e07-b0ceed04ac60",
   "metadata": {},
   "source": [
    "## Clean up"
   ]
  },
  {
   "cell_type": "code",
   "execution_count": null,
   "id": "34af1531-73e2-41ed-b47f-32eb0baad871",
   "metadata": {},
   "outputs": [],
   "source": [
    "launch_result.ecr_uri, launch_result.agent_id, launch_result.ecr_uri.split('/')[1]"
   ]
  },
  {
   "cell_type": "code",
   "execution_count": null,
   "id": "c9b5561f-8137-4264-b0e9-58e82b1e357e",
   "metadata": {},
   "outputs": [],
   "source": [
    "import boto3\n",
    "\n",
    "\n",
    "boto_session = boto3.Session()\n",
    "\n",
    "agentcore_control_client = boto_session.client('bedrock-agentcore-control')\n",
    "agentcore_control_client.delete_agent_runtime(agentRuntimeId=launch_result.agent_id)\n",
    "\n",
    "ecr_client = boto_session.client('ecr')\n",
    "ecr_client.delete_repository(\n",
    "    repositoryName=launch_result.ecr_uri.split('/')[1],\n",
    "    force=True\n",
    ")\n",
    "\n",
    "iam_client = boto_session.client(\"iam\")\n",
    "policies = iam_client.list_role_policies(RoleName=execution_role_name)['PolicyNames']\n",
    "for policy in policies:\n",
    "    iam_client.delete_role_policy(RoleName=execution_role_name, PolicyName=policy)\n",
    "iam_client.delete_role(RoleName=execution_role_name)"
   ]
  },
  {
   "cell_type": "code",
   "execution_count": null,
   "id": "5659b264-dbe2-4803-ab09-794f7e4af211",
   "metadata": {},
   "outputs": [],
   "source": []
  }
 ],
 "metadata": {
  "kernelspec": {
   "display_name": "Python 3 (ipykernel)",
   "language": "python",
   "name": "python3"
  },
  "language_info": {
   "codemirror_mode": {
    "name": "ipython",
    "version": 3
   },
   "file_extension": ".py",
   "mimetype": "text/x-python",
   "name": "python",
   "nbconvert_exporter": "python",
   "pygments_lexer": "ipython3",
   "version": "3.12.9"
  }
 },
 "nbformat": 4,
 "nbformat_minor": 5
}
