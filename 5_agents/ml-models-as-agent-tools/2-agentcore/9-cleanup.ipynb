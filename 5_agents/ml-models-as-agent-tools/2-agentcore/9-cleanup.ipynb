{
 "cells": [
  {
   "cell_type": "markdown",
   "id": "690bf60d-8b21-424d-96dd-ad9f331eb1ea",
   "metadata": {},
   "source": [
    "# Clean up"
   ]
  },
  {
   "cell_type": "code",
   "execution_count": 5,
   "id": "fecb9900-c9a3-481c-9962-3c0d16d8bf06",
   "metadata": {
    "execution": {
     "iopub.execute_input": "2025-07-29T12:21:38.846291Z",
     "iopub.status.busy": "2025-07-29T12:21:38.845600Z",
     "iopub.status.idle": "2025-07-29T12:21:38.850262Z",
     "shell.execute_reply": "2025-07-29T12:21:38.849672Z",
     "shell.execute_reply.started": "2025-07-29T12:21:38.846256Z"
    }
   },
   "outputs": [],
   "source": [
    "%store -r"
   ]
  },
  {
   "cell_type": "code",
   "execution_count": null,
   "id": "8d107d02-8b7b-4fb7-9b6c-6258688d9b81",
   "metadata": {},
   "outputs": [],
   "source": [
    "import boto3\n",
    "\n",
    "# Delete the AgentCore Gateway\n",
    "boto3.client(\"bedrock-agentcore-control\").delete_gateway(gatewayIdentifier=GATEWAY_ID)\n",
    "# Delete the SageMaker Endpoint ml-models-as-tools\n",
    "boto3.client(\"sagemaker\").delete_endpoint(EndpointName=ENDPOINT_NAME)"
   ]
  }
 ],
 "metadata": {
  "kernelspec": {
   "display_name": "Python 3 (ipykernel)",
   "language": "python",
   "name": "python3"
  },
  "language_info": {
   "codemirror_mode": {
    "name": "ipython",
    "version": 3
   },
   "file_extension": ".py",
   "mimetype": "text/x-python",
   "name": "python",
   "nbconvert_exporter": "python",
   "pygments_lexer": "ipython3",
   "version": "3.12.9"
  }
 },
 "nbformat": 4,
 "nbformat_minor": 5
}
