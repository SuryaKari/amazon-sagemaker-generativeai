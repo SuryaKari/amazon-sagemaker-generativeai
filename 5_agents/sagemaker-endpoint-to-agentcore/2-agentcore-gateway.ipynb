{
 "cells": [
  {
   "cell_type": "code",
   "execution_count": null,
   "id": "cd38da5a-fdc9-4a7d-a49b-391482d76223",
   "metadata": {
    "scrolled": true
   },
   "outputs": [],
   "source": [
    "%pip install boto3 bedrock-agentcore-starter-toolkit bedrock-agentcore strands-agents strands-agents-tools -qU"
   ]
  },
  {
   "cell_type": "code",
   "execution_count": null,
   "id": "2a23aebb-d211-482b-8da8-f29f92253abe",
   "metadata": {},
   "outputs": [],
   "source": [
    "from IPython import get_ipython\n",
    "get_ipython().kernel.do_shutdown(True)"
   ]
  },
  {
   "cell_type": "code",
   "execution_count": 1,
   "id": "b3fef475-bbbc-4bf8-bf64-e08fa968f518",
   "metadata": {
    "execution": {
     "iopub.execute_input": "2025-07-29T12:47:12.653912Z",
     "iopub.status.busy": "2025-07-29T12:47:12.653713Z",
     "iopub.status.idle": "2025-07-29T12:47:12.657794Z",
     "shell.execute_reply": "2025-07-29T12:47:12.657389Z",
     "shell.execute_reply.started": "2025-07-29T12:47:12.653895Z"
    }
   },
   "outputs": [],
   "source": [
    "%store -r"
   ]
  },
  {
   "cell_type": "markdown",
   "id": "c3f8d442-ffcf-46ed-828e-f3212660f7f9",
   "metadata": {},
   "source": [
    "# Amazon Bedrock AgentCore Gateway\n",
    "\n",
    "Bedrock AgentCore Gateway provides customers a way to turn their existing Smithy APIs into fully-managed MCP servers without needing to manage infra or hosting. Customers can bring Smithy spec and transform them into mcp tools. We will demonstrate creating mcp tools from smithy model of Amazon S3. The agent will then be able to query Amazon S3 and answer questions related to the it.\n",
    "\n",
    "The Gateway workflow involves the following steps to connect your agents to external tools:\n",
    "\n",
    "- **Create the tools for your Gateway** - Define your tools using Smithy specification.\n",
    "- **Create a Gateway endpoint** - Create the gateway that will serve as the MCP entry point with inbound authentication.\n",
    "- **Add targets to your Gateway** - Configure the Smithy target that define how the gateway routes requests to specific tools. All the operations that part of Smithy file will become an MCP-compatible tool, and will be made available through your Gateway endpoint URL. Configure outbound authorization using AWS IAM for invoking Amazon S3 apis via Smithy.\n",
    "- **Update your agent code** - Connect your agent to the Gateway endpoint to access all configured tools through the unified MCP interface.\n",
    "\n",
    "![architecture-diagram](architecture-diagram.png)\n",
    "\n",
    "------\n",
    "\n",
    "## Create the Gateway using the Python SDK"
   ]
  },
  {
   "cell_type": "code",
   "execution_count": null,
   "id": "16d830cf-0b61-484d-9512-5903e39bdf38",
   "metadata": {
    "scrolled": true
   },
   "outputs": [],
   "source": [
    "from bedrock_agentcore_starter_toolkit.operations.gateway.client import GatewayClient\n",
    "import logging\n",
    "import boto3\n",
    "\n",
    "region_name = boto3.Session().region_name\n",
    "\n",
    "# setup the gateway\n",
    "client = GatewayClient(region_name=region_name)\n",
    "gateway = client.create_mcp_gateway()"
   ]
  },
  {
   "cell_type": "code",
   "execution_count": null,
   "id": "def8cba8-a754-462e-a36e-e806b17aec5d",
   "metadata": {
    "scrolled": true
   },
   "outputs": [],
   "source": [
    "gateway"
   ]
  },
  {
   "cell_type": "code",
   "execution_count": null,
   "id": "cdbd5493-9800-4577-aa8e-bd1f5c65b080",
   "metadata": {},
   "outputs": [],
   "source": [
    "# Store Gateway ID for later use\n",
    "GATEWAY_ID = gateway[\"gatewayId\"]\n",
    "GATEWAY_URL = gateway[\"gatewayUrl\"]\n",
    "%store GATEWAY_ID GATEWAY_URL"
   ]
  },
  {
   "cell_type": "markdown",
   "id": "3fcde9fb-3963-4d17-b9cb-1f8c4596f7b4",
   "metadata": {},
   "source": [
    "Let's add permissions to invoke the SageMaker endpoint(s)."
   ]
  },
  {
   "cell_type": "code",
   "execution_count": null,
   "id": "60dce48a-ff84-4461-af9c-b1f9ae6ea40c",
   "metadata": {},
   "outputs": [],
   "source": [
    "import json\n",
    "\n",
    "try:\n",
    "    iam_client.put_role_policy(\n",
    "        RoleName=role_name,\n",
    "        PolicyName='SageMakerRuntimeInvokePermissions',\n",
    "        PolicyDocument=json.dumps({\n",
    "            \"Version\": \"2012-10-17\",\n",
    "            \"Statement\": [\n",
    "                {\n",
    "                    \"Effect\": \"Allow\",\n",
    "                    \"Action\": [\n",
    "                        \"sagemaker:InvokeEndpoint\",\n",
    "                        \"sagemaker:InvokeEndpointWithResponseStream\",\n",
    "                        # \"sagemaker:InvokeEndpointAsync\", # Removed for now since it also requires S3 permissions\n",
    "                    ],\n",
    "                    \"Resource\": \"*\"  # Consider restricting to specific endpoint ARNs\n",
    "                }\n",
    "            ]\n",
    "        })\n",
    "    )\n",
    "except iam_client.exceptions.NoSuchEntityException:\n",
    "    print(f\"Role {role_name} not found\")\n",
    "except iam_client.exceptions.LimitExceededException:\n",
    "    print(\"Policy limit exceeded for this role\")\n",
    "except Exception as e:\n",
    "    print(f\"Error attaching policy: {str(e)}\")"
   ]
  },
  {
   "cell_type": "markdown",
   "id": "929fa1c4-77e7-4519-9891-78ddba2c8ec9",
   "metadata": {},
   "source": [
    "## Create the Gateway Target using Smithy\n",
    "\n",
    "AWS API Models are available on [GitHub](https://github.com/aws/api-models-aws/)."
   ]
  },
  {
   "cell_type": "code",
   "execution_count": null,
   "id": "28674c44-3e1a-40b9-9bd4-32cefc9b3e7e",
   "metadata": {
    "scrolled": true
   },
   "outputs": [],
   "source": [
    "!wget https://raw.githubusercontent.com/aws/api-models-aws/refs/heads/main/models/sagemaker-runtime/service/2017-05-13/sagemaker-runtime-2017-05-13.json"
   ]
  },
  {
   "cell_type": "code",
   "execution_count": null,
   "id": "71d30e35-caa1-494c-9398-48b315e17266",
   "metadata": {},
   "outputs": [],
   "source": [
    "import boto3\n",
    "\n",
    "# Create the agentcore client\n",
    "agentcore_client = boto3.client('bedrock-agentcore-control')\n",
    "\n",
    "# Create a Smithy model target\n",
    "target = agentcore_client.create_gateway_target(\n",
    "    gatewayIdentifier=GATEWAY_ID,\n",
    "    name=\"SageMakerRuntimeTarget\",\n",
    "    targetConfiguration={\n",
    "        \"mcp\": {\n",
    "            \"smithyModel\": {\n",
    "                \"inlinePayload\": open('sagemaker-runtime-2017-05-13.json', 'r').read()\n",
    "            }\n",
    "        }\n",
    "    },\n",
    "    credentialProviderConfigurations=[\n",
    "        {\n",
    "            \"credentialProviderType\": \"GATEWAY_IAM_ROLE\"\n",
    "        }\n",
    "    ]\n",
    ")"
   ]
  },
  {
   "cell_type": "code",
   "execution_count": null,
   "id": "85342544-eebf-4fa4-890d-e2a25a644cbc",
   "metadata": {
    "scrolled": true
   },
   "outputs": [],
   "source": [
    "# Confirm the Gateway target is in READY state\n",
    "agentcore_client.list_gateway_targets(gatewayIdentifier=GATEWAY_ID)"
   ]
  },
  {
   "cell_type": "markdown",
   "id": "aa27d53b-1674-4fe4-a255-d03bd4086fac",
   "metadata": {},
   "source": [
    "## Using with AI Agents\n",
    "\n",
    "In this example, we'll use [Strands Agents](https://strandsagents.com), but any OSS framework with MCP support will work."
   ]
  },
  {
   "cell_type": "code",
   "execution_count": 2,
   "id": "3d95f074-6ce9-472c-89df-9f6955230156",
   "metadata": {
    "execution": {
     "iopub.execute_input": "2025-07-29T12:47:16.816130Z",
     "iopub.status.busy": "2025-07-29T12:47:16.815767Z",
     "iopub.status.idle": "2025-07-29T12:47:32.117683Z",
     "shell.execute_reply": "2025-07-29T12:47:32.117162Z",
     "shell.execute_reply.started": "2025-07-29T12:47:16.816109Z"
    }
   },
   "outputs": [
    {
     "name": "stdout",
     "output_type": "stream",
     "text": [
      "User Pool ID:  us-east-1_pEniGgfhZ\n",
      "Client ID:  7oivlvqfnfo1ck3g17pfiu37e4\n",
      "Client Secret:  afp4mtta350q4vpg4h2i89udjut5a0rcouq8vdeg18acvqoi92k\n",
      "Found the following tools: ['x_amz_bedrock_agentcore_search', 'SageMakerRuntimeTarget___InvokeEndpoint', 'SageMakerRuntimeTarget___InvokeEndpointAsync', 'SageMakerRuntimeTarget___InvokeEndpointWithResponseStream']\n",
      "I'll help you predict the demand using the SageMaker endpoint for demand forecasting. I'll invoke the endpoint with the input data.\n",
      "Tool #1: SageMakerRuntimeTarget___InvokeEndpoint\n",
      "I'll format the predictions in JSON as you requested:\n",
      "\n",
      "{'predictions': [86.79020690917969, 83.85835266113281, 81.7549819946289, 80.48657989501953, 80.43880462646484]}\n",
      "\n",
      "The model has generated predictions for the next 5 time steps based on the input historical demand data. The predictions show a slight downward trend, starting at around 86.79 and gradually decreasing to about 80.44.\n",
      "\n",
      "Would you like me to provide any additional analysis or insights about these predictions?"
     ]
    }
   ],
   "source": [
    "from strands import Agent\n",
    "from strands.tools.mcp.mcp_client import MCPClient\n",
    "from utils.cognito_utils import get_token\n",
    "from utils.agent_utils import create_streamable_http_transport,get_full_tools_list \n",
    "import os\n",
    "\n",
    "def run_agent(mcp_url: str, access_token: str):\n",
    "    mcp_client = MCPClient(lambda: create_streamable_http_transport(mcp_url, access_token))\n",
    "     \n",
    "    with mcp_client:\n",
    "        tools = get_full_tools_list(mcp_client)\n",
    "        print(f\"Found the following tools: {[tool.tool_name for tool in tools]}\")\n",
    "\n",
    "        # Create an agent with these tools\n",
    "        agent = Agent(\n",
    "            model=\"us.anthropic.claude-3-5-haiku-20241022-v1:0\", tools=tools,\n",
    "            system_prompt=f\"\"\"\n",
    "                You are an expert data analyst and a product owner. Your task is to help the business thrive.\n",
    "\n",
    "                # Sytems access\n",
    "                You have access to a ML model for demand forecasting, exposed by the Amazon SageMaker AI endpoint {ENDPOINT_NAME}.\n",
    "                This models takes an array of float as input, and returns an array of float as output.\n",
    "            \"\"\"\n",
    "        )\n",
    "        \n",
    "        # Invoke the agent\n",
    "        agent(\n",
    "            f\"These are the current demand values:\\n\\n<input>{test_sample}</input>\\n\\n\"\n",
    "            \"Predict demand, please. Provide the output in JSON format {'predictions':<predictions>}\"\n",
    "        )\n",
    "        \n",
    "# run_agent(<MCP URL>, <Access token>)\n",
    "run_agent(GATEWAY_URL, get_token(GATEWAY_ID))"
   ]
  },
  {
   "cell_type": "markdown",
   "id": "6c210e42-2a60-4f57-8241-ca65b909626a",
   "metadata": {},
   "source": [
    "The AI agent works! 🎉️ Note that some system prompting and context engineering is required to make sure that the model knows which endpoints are available, and what they do. To avoid this, you can create a custom MCP server where you provide explanation of the systems the model has access to directly in the docstring, so that it's exposed by the MCP server.\n",
    "\n",
    "Now, we can decide to deploy it using Amazon Bedrock AgentCore Runtime, or any other AWS Compute service."
   ]
  }
 ],
 "metadata": {
  "kernelspec": {
   "display_name": "Python 3 (ipykernel)",
   "language": "python",
   "name": "python3"
  },
  "language_info": {
   "codemirror_mode": {
    "name": "ipython",
    "version": 3
   },
   "file_extension": ".py",
   "mimetype": "text/x-python",
   "name": "python",
   "nbconvert_exporter": "python",
   "pygments_lexer": "ipython3",
   "version": "3.12.9"
  }
 },
 "nbformat": 4,
 "nbformat_minor": 5
}
