{
	"cells": [
		{
			"cell_type": "markdown",
			"metadata": {
				"editable": true,
				"trusted": true
			},
			"source": [
				"# Outlier analysis on prompt embeddings\n",
				"\n",
				"If you are using the RAG pattern, it's interesting to think about whether your reference data is adequately covering the questions being asked. This notebook shows a relatively simple technique.\n",
				"\n",
				"A Glue job has calculated the distance from each prompt's embedding to the closest reference embedding cluster centroid, and stored the mean and standard deviation of those metrics. You can certainly look at the absolute values of the mean, median, and standard deviation, and track the trends of those statistics over time. \n",
				"\n",
				"In this notebook we'll just calculate the z-score of each prompt's embedding vector and count how many outliers there are."
			]
		},
		{
			"cell_type": "markdown",
			"metadata": {
				"editable": true,
				"trusted": true
			},
			"source": [
				"###  Set up Glue interaction session\n"
			]
		},
		{
			"cell_type": "code",
			"execution_count": 1,
			"metadata": {
				"editable": true,
				"trusted": true,
				"vscode": {
					"languageId": "python_glue_session"
				}
			},
			"outputs": [
				{
					"name": "stdout",
					"output_type": "stream",
					"text": [
						"Welcome to the Glue Interactive Sessions Kernel\n",
						"For more information on available magic commands, please type %help in any new cell.\n",
						"\n",
						"Please view our Getting Started page to access the most up-to-date information on the Interactive Sessions kernel: https://docs.aws.amazon.com/glue/latest/dg/interactive-sessions.html\n",
						"Installed kernel version: 0.38.1 \n",
						"Current idle_timeout is 2800 minutes.\n",
						"idle_timeout has been set to 2880 minutes.\n",
						"Setting Glue version to: 3.0\n",
						"Previous worker type: G.1X\n",
						"Setting new worker type to: G.1X\n",
						"Previous number of workers: 5\n",
						"Setting new number of workers to: 5\n",
						"Authenticating with environment variables and user-defined glue_role_arn: arn:aws:iam::102165494304:role/glueinteractive\n",
						"Trying to create a Glue session for the kernel.\n",
						"Worker Type: G.1X\n",
						"Number of Workers: 5\n",
						"Session ID: 5dae2f9f-42c4-44b4-8357-104eed1b9ab8\n",
						"Job Type: glueetl\n",
						"Applying the following default arguments:\n",
						"--glue_kernel_version 0.38.1\n",
						"--enable-glue-datacatalog true\n",
						"Waiting for session 5dae2f9f-42c4-44b4-8357-104eed1b9ab8 to get into ready status...\n",
						"Session 5dae2f9f-42c4-44b4-8357-104eed1b9ab8 has been created.\n",
						"\n"
					]
				}
			],
			"source": [
				"%idle_timeout 2880\n",
				"%glue_version 3.0\n",
				"%worker_type G.1X\n",
				"%number_of_workers 5\n",
				"\n",
				"import sys\n",
				"from awsglue.transforms import *\n",
				"from awsglue.utils import getResolvedOptions\n",
				"from pyspark.context import SparkContext\n",
				"from awsglue.context import GlueContext\n",
				"from awsglue.job import Job\n",
				"  \n",
				"sc = SparkContext.getOrCreate()\n",
				"glueContext = GlueContext(sc)\n",
				"spark = glueContext.spark_session\n",
				"job = Job(glueContext)"
			]
		},
		{
			"cell_type": "markdown",
			"metadata": {
				"editable": true,
				"trusted": true
			},
			"source": [
				"### Read saved prompt embedding distance data\n"
			]
		},
		{
			"cell_type": "code",
			"execution_count": 2,
			"metadata": {
				"editable": true,
				"trusted": true,
				"vscode": {
					"languageId": "python_glue_session"
				}
			},
			"outputs": [
				{
					"name": "stdout",
					"output_type": "stream",
					"text": [
						"\n"
					]
				}
			],
			"source": [
				"df = spark.read.parquet(\"s3://cdkstack-documentsbucket9ec9deb9-sbbf9n4wdhze/promptdistance/\")"
			]
		},
		{
			"cell_type": "markdown",
			"metadata": {},
			"source": [
				"### Specify the mean and standard deviation as calculated by the Glue distance analysis job"
			]
		},
		{
			"cell_type": "code",
			"execution_count": 4,
			"metadata": {
				"tags": [],
				"trusted": true,
				"vscode": {
					"languageId": "python_glue_session"
				}
			},
			"outputs": [
				{
					"name": "stdout",
					"output_type": "stream",
					"text": [
						"\n"
					]
				}
			],
			"source": [
				"mean = 670\n",
				"stdev = 370"
			]
		},
		{
			"cell_type": "markdown",
			"metadata": {},
			"source": [
				"### Calculate z-scores"
			]
		},
		{
			"cell_type": "code",
			"execution_count": 7,
			"metadata": {
				"tags": [],
				"trusted": true,
				"vscode": {
					"languageId": "python_glue_session"
				}
			},
			"outputs": [
				{
					"name": "stdout",
					"output_type": "stream",
					"text": [
						"\n"
					]
				}
			],
			"source": [
				"from pyspark.sql.functions import col\n",
				"df = df.withColumn(\"z\", (col(\"dist\") - mean) / stdev)"
			]
		},
		{
			"cell_type": "markdown",
			"metadata": {},
			"source": [
				"### Filter by z-score value more than 2"
			]
		},
		{
			"cell_type": "code",
			"execution_count": 12,
			"metadata": {
				"tags": [],
				"trusted": true,
				"vscode": {
					"languageId": "python_glue_session"
				}
			},
			"outputs": [
				{
					"name": "stdout",
					"output_type": "stream",
					"text": [
						"\n"
					]
				}
			],
			"source": [
				"dfOutliers = df.where(df.z > 2)"
			]
		},
		{
			"cell_type": "markdown",
			"metadata": {},
			"source": [
				"### Count outliers"
			]
		},
		{
			"cell_type": "code",
			"execution_count": 13,
			"metadata": {
				"tags": [],
				"trusted": true,
				"vscode": {
					"languageId": "python_glue_session"
				}
			},
			"outputs": [
				{
					"name": "stdout",
					"output_type": "stream",
					"text": [
						"0\n"
					]
				}
			],
			"source": [
				"dfOutliers.count()"
			]
		},
		{
			"cell_type": "code",
			"execution_count": null,
			"metadata": {
				"vscode": {
					"languageId": "python_glue_session"
				}
			},
			"outputs": [],
			"source": []
		}
	],
	"metadata": {
		"kernelspec": {
			"display_name": "Glue PySpark",
			"language": "python",
			"name": "glue_pyspark"
		},
		"language_info": {
			"codemirror_mode": {
				"name": "python",
				"version": 3
			},
			"file_extension": ".py",
			"mimetype": "text/x-python",
			"name": "Python_Glue_Session",
			"pygments_lexer": "python3"
		}
	},
	"nbformat": 4,
	"nbformat_minor": 4
}
