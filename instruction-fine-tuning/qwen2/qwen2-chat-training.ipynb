{
 "cells": [
  {
   "cell_type": "markdown",
   "id": "02ecf195-d752-4d59-b34c-173d06ca5ab4",
   "metadata": {},
   "source": [
    "# Fine tune Qwen 2 using torchrun\n",
    "\n",
    "Note: GPU instance types are required to execute this notebook and has been tested with ml.g5.xlarge "
   ]
  },
  {
   "cell_type": "markdown",
   "id": "45bfd1cb-9019-426b-8a49-1cd392ceaf64",
   "metadata": {},
   "source": [
    "## Install dependencies"
   ]
  },
  {
   "cell_type": "code",
   "execution_count": null,
   "id": "4303af6d-80cc-488c-af0a-2a7e36c19f5f",
   "metadata": {},
   "outputs": [],
   "source": [
    "!micromamba install -y --freeze-installed  \"nvidia::cuda>=11.8,<11.9\"\n",
    "!nvcc --version\n",
    "!ls /usr/local/cuda/lib64/libcudart.so.11.8.89\n",
    "!sudo rm -f /usr/lib/libcudart.so\n",
    "!sudo ln -s /usr/local/cuda/lib64/libcudart.so.11.8.89 /usr/lib/libcudart.so\n",
    "!git clone --depth 1 https://github.com/hiyouga/LLaMA-Factory.git\n",
    "!cd LLaMA-Factory && pip install -e \".[torch,metrics]\"\n",
    "!llamafactory-cli version"
   ]
  },
  {
   "cell_type": "markdown",
   "id": "21e2c84d",
   "metadata": {},
   "source": [
    "## Train model"
   ]
  },
  {
   "cell_type": "code",
   "execution_count": null,
   "id": "8d21bef5-5edf-4d98-9135-b90626ff1c91",
   "metadata": {},
   "outputs": [],
   "source": [
    "!llamafactory-cli train qwen2-0.5-qlora-sft.yaml"
   ]
  },
  {
   "cell_type": "code",
   "execution_count": 4,
   "id": "f080c0c5-1572-4dc1-8306-7ceb2d94a7ac",
   "metadata": {},
   "outputs": [
    {
     "name": "stderr",
     "output_type": "stream",
     "text": [
      "huggingface/tokenizers: The current process just got forked, after parallelism has already been used. Disabling parallelism to avoid deadlocks...\n",
      "To disable this warning, you can either:\n",
      "\t- Avoid using `tokenizers` before the fork if possible\n",
      "\t- Explicitly set the environment variable TOKENIZERS_PARALLELISM=(true | false)\n"
     ]
    }
   ],
   "source": [
    "!pip install peft deepspeed optimum accelerate bitsandbytes --upgrade --quiet"
   ]
  },
  {
   "cell_type": "markdown",
   "id": "cd8353c4-ab93-4102-bc36-dc9ebcdb6493",
   "metadata": {},
   "source": [
    "## Load model"
   ]
  },
  {
   "cell_type": "code",
   "execution_count": null,
   "id": "fec802d4-34fd-4554-a889-93fd7979dcfe",
   "metadata": {},
   "outputs": [],
   "source": [
    "from transformers import AutoModelForCausalLM, AutoTokenizer\n",
    "device = \"cuda\" # the device to load the model onto\n",
    "model_name_or_path = \"./saves/qwen2-0.5B/qlora/sft/\"\n",
    "model = AutoModelForCausalLM.from_pretrained(\n",
    "    model_name_or_path,\n",
    "    torch_dtype=\"auto\",\n",
    "    device_map=\"auto\"\n",
    ")\n",
    "tokenizer = AutoTokenizer.from_pretrained(model_name_or_path)\n",
    "prompt = \"Give me a short introduction to large language model.\"\n",
    "messages = [\n",
    "    {\"role\": \"system\", \"content\": \"You are a helpful assistant.\"},\n",
    "    {\"role\": \"user\", \"content\": prompt}\n",
    "]\n",
    "text = tokenizer.apply_chat_template(\n",
    "    messages,\n",
    "    tokenize=False,\n",
    "    add_generation_prompt=True\n",
    ")\n",
    "model_inputs = tokenizer([text], return_tensors=\"pt\").to(device)\n",
    "\n",
    "generated_ids = model.generate(\n",
    "    model_inputs.input_ids,\n",
    "    max_new_tokens=512\n",
    ")\n",
    "generated_ids = [\n",
    "    output_ids[len(input_ids):] for input_ids, output_ids in zip(model_inputs.input_ids, generated_ids)\n",
    "]\n",
    "\n",
    "response = tokenizer.batch_decode(generated_ids, skip_special_tokens=True)[0]\n",
    "response"
   ]
  }
 ],
 "metadata": {
  "kernelspec": {
   "display_name": "Python 3 (ipykernel)",
   "language": "python",
   "name": "python3"
  },
  "language_info": {
   "codemirror_mode": {
    "name": "ipython",
    "version": 3
   },
   "file_extension": ".py",
   "mimetype": "text/x-python",
   "name": "python",
   "nbconvert_exporter": "python",
   "pygments_lexer": "ipython3",
   "version": "3.10.14"
  }
 },
 "nbformat": 4,
 "nbformat_minor": 5
}
